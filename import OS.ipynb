{
 "cells": [
  {
   "cell_type": "code",
   "execution_count": 18,
   "metadata": {},
   "outputs": [
    {
     "data": {
      "text/plain": [
       "module"
      ]
     },
     "execution_count": 18,
     "metadata": {},
     "output_type": "execute_result"
    }
   ],
   "source": [
    "import os\n",
    "type(os)"
   ]
  },
  {
   "cell_type": "code",
   "execution_count": 19,
   "metadata": {},
   "outputs": [
    {
     "data": {
      "text/plain": [
       "str"
      ]
     },
     "execution_count": 19,
     "metadata": {},
     "output_type": "execute_result"
    }
   ],
   "source": [
    "type(os.name)"
   ]
  },
  {
   "cell_type": "code",
   "execution_count": 20,
   "metadata": {},
   "outputs": [
    {
     "data": {
      "text/plain": [
       "'nt'"
      ]
     },
     "execution_count": 20,
     "metadata": {},
     "output_type": "execute_result"
    }
   ],
   "source": [
    "os.name"
   ]
  },
  {
   "cell_type": "code",
   "execution_count": 21,
   "metadata": {},
   "outputs": [
    {
     "data": {
      "text/plain": [
       "'C:\\\\Users\\\\Vicky Kumar\\\\Desktop\\\\Program Output\\\\Jupyter Notebook'"
      ]
     },
     "execution_count": 21,
     "metadata": {},
     "output_type": "execute_result"
    }
   ],
   "source": [
    "os.getcwd()"
   ]
  },
  {
   "cell_type": "code",
   "execution_count": 22,
   "metadata": {
    "scrolled": true
   },
   "outputs": [
    {
     "ename": "FileNotFoundError",
     "evalue": "[WinError 2] The system cannot find the file specified: '...mkdir'",
     "output_type": "error",
     "traceback": [
      "\u001b[1;31m---------------------------------------------------------------------------\u001b[0m",
      "\u001b[1;31mFileNotFoundError\u001b[0m                         Traceback (most recent call last)",
      "\u001b[1;32m<ipython-input-22-87a461961d4c>\u001b[0m in \u001b[0;36m<module>\u001b[1;34m\u001b[0m\n\u001b[1;32m----> 1\u001b[1;33m \u001b[0mos\u001b[0m\u001b[1;33m.\u001b[0m\u001b[0mrmdir\u001b[0m\u001b[1;33m(\u001b[0m\u001b[1;34m'...mkdir'\u001b[0m\u001b[1;33m)\u001b[0m\u001b[1;33m\u001b[0m\u001b[1;33m\u001b[0m\u001b[0m\n\u001b[0m\u001b[0;32m      2\u001b[0m \u001b[0mos\u001b[0m\u001b[1;33m.\u001b[0m\u001b[0mrmdir\u001b[0m\u001b[1;33m(\u001b[0m\u001b[1;34m'...py_tut'\u001b[0m\u001b[1;33m)\u001b[0m\u001b[1;33m\u001b[0m\u001b[1;33m\u001b[0m\u001b[0m\n\u001b[0;32m      3\u001b[0m \u001b[0mos\u001b[0m\u001b[1;33m.\u001b[0m\u001b[0mlistdir\u001b[0m\u001b[1;33m(\u001b[0m\u001b[1;33m)\u001b[0m\u001b[1;33m\u001b[0m\u001b[1;33m\u001b[0m\u001b[0m\n",
      "\u001b[1;31mFileNotFoundError\u001b[0m: [WinError 2] The system cannot find the file specified: '...mkdir'"
     ]
    }
   ],
   "source": [
    "os.rmdir('...mkdir')\n",
    "os.rmdir('...py_tut')\n",
    "os.listdir()"
   ]
  },
  {
   "cell_type": "code",
   "execution_count": 23,
   "metadata": {
    "scrolled": true
   },
   "outputs": [
    {
     "data": {
      "text/plain": [
       "['...py_tut',\n",
       " '.google-cookie',\n",
       " '.ipynb_checkpoints',\n",
       " 'CancerByKNN by shivam boss.ipynb',\n",
       " 'CancerByLogistic by shivam boss.ipynb',\n",
       " 'emotion detection.ipynb',\n",
       " 'Face detector ID match.ipynb',\n",
       " 'Face recognition Vicky.ipynb',\n",
       " 'Facial Expression .ipynb',\n",
       " 'Flask.ipynb',\n",
       " 'Fraud Credit card Detection stuti mittra boss github.ipynb',\n",
       " 'Front face.ipynb',\n",
       " 'load_iris.ipynb',\n",
       " 'MNIST.ipynb',\n",
       " 'MOTION Detector.ipynb',\n",
       " 'news classification by shivam boss.ipynb',\n",
       " 'Notepad.ipynb',\n",
       " 'OpenCV for Capturing Videos... tutorial Edureka.ipynb',\n",
       " 'OpenCV for reading photo... tutorial Edureka.ipynb',\n",
       " 'open_img().ipynb',\n",
       " 'Pafy youtube video downloder.ipynb',\n",
       " 'Pandas.ipynb',\n",
       " 'Processing text using NLP and Beautiful Soups.ipynb',\n",
       " 'py_tut',\n",
       " 'QRcode.ipynb',\n",
       " 'Restaurant_Reviews.tsv NLP.ipynb',\n",
       " 'selenium webdriver.ipynb',\n",
       " 'Sentimal analysis.ipynb',\n",
       " 'tfidvectoriser on 20 news.ipynb',\n",
       " 'Timer CountDown.ipynb',\n",
       " 'tkinter.Tk().ipynb',\n",
       " 'Untitled.ipynb',\n",
       " 'Untitled1.ipynb',\n",
       " 'video opener.ipynb',\n",
       " 'Web Scraping BeautifulSoup.ipynb',\n",
       " 'webcam.ipynb',\n",
       " 'YouTube_dl.ipynb']"
      ]
     },
     "execution_count": 23,
     "metadata": {},
     "output_type": "execute_result"
    }
   ],
   "source": [
    "os.mkdir('...py_tut')\n",
    "os.listdir()"
   ]
  },
  {
   "cell_type": "code",
   "execution_count": 24,
   "metadata": {
    "scrolled": true
   },
   "outputs": [
    {
     "data": {
      "text/plain": [
       "['...mkdir',\n",
       " '.google-cookie',\n",
       " '.ipynb_checkpoints',\n",
       " 'CancerByKNN by shivam boss.ipynb',\n",
       " 'CancerByLogistic by shivam boss.ipynb',\n",
       " 'emotion detection.ipynb',\n",
       " 'Face detector ID match.ipynb',\n",
       " 'Face recognition Vicky.ipynb',\n",
       " 'Facial Expression .ipynb',\n",
       " 'Flask.ipynb',\n",
       " 'Fraud Credit card Detection stuti mittra boss github.ipynb',\n",
       " 'Front face.ipynb',\n",
       " 'load_iris.ipynb',\n",
       " 'MNIST.ipynb',\n",
       " 'MOTION Detector.ipynb',\n",
       " 'news classification by shivam boss.ipynb',\n",
       " 'Notepad.ipynb',\n",
       " 'OpenCV for Capturing Videos... tutorial Edureka.ipynb',\n",
       " 'OpenCV for reading photo... tutorial Edureka.ipynb',\n",
       " 'open_img().ipynb',\n",
       " 'Pafy youtube video downloder.ipynb',\n",
       " 'Pandas.ipynb',\n",
       " 'Processing text using NLP and Beautiful Soups.ipynb',\n",
       " 'py_tut',\n",
       " 'QRcode.ipynb',\n",
       " 'Restaurant_Reviews.tsv NLP.ipynb',\n",
       " 'selenium webdriver.ipynb',\n",
       " 'Sentimal analysis.ipynb',\n",
       " 'tfidvectoriser on 20 news.ipynb',\n",
       " 'Timer CountDown.ipynb',\n",
       " 'tkinter.Tk().ipynb',\n",
       " 'Untitled.ipynb',\n",
       " 'Untitled1.ipynb',\n",
       " 'video opener.ipynb',\n",
       " 'Web Scraping BeautifulSoup.ipynb',\n",
       " 'webcam.ipynb',\n",
       " 'YouTube_dl.ipynb']"
      ]
     },
     "execution_count": 24,
     "metadata": {},
     "output_type": "execute_result"
    }
   ],
   "source": [
    "os.rename('...py_tut','...mkdir')\n",
    "os.listdir()"
   ]
  },
  {
   "cell_type": "code",
   "execution_count": 25,
   "metadata": {
    "scrolled": true
   },
   "outputs": [
    {
     "data": {
      "text/plain": [
       "['.google-cookie',\n",
       " '.ipynb_checkpoints',\n",
       " 'CancerByKNN by shivam boss.ipynb',\n",
       " 'CancerByLogistic by shivam boss.ipynb',\n",
       " 'emotion detection.ipynb',\n",
       " 'Face detector ID match.ipynb',\n",
       " 'Face recognition Vicky.ipynb',\n",
       " 'Facial Expression .ipynb',\n",
       " 'Flask.ipynb',\n",
       " 'Fraud Credit card Detection stuti mittra boss github.ipynb',\n",
       " 'Front face.ipynb',\n",
       " 'load_iris.ipynb',\n",
       " 'MNIST.ipynb',\n",
       " 'MOTION Detector.ipynb',\n",
       " 'news classification by shivam boss.ipynb',\n",
       " 'Notepad.ipynb',\n",
       " 'OpenCV for Capturing Videos... tutorial Edureka.ipynb',\n",
       " 'OpenCV for reading photo... tutorial Edureka.ipynb',\n",
       " 'open_img().ipynb',\n",
       " 'Pafy youtube video downloder.ipynb',\n",
       " 'Pandas.ipynb',\n",
       " 'Processing text using NLP and Beautiful Soups.ipynb',\n",
       " 'py_tut',\n",
       " 'QRcode.ipynb',\n",
       " 'Restaurant_Reviews.tsv NLP.ipynb',\n",
       " 'selenium webdriver.ipynb',\n",
       " 'Sentimal analysis.ipynb',\n",
       " 'tfidvectoriser on 20 news.ipynb',\n",
       " 'Timer CountDown.ipynb',\n",
       " 'tkinter.Tk().ipynb',\n",
       " 'Untitled.ipynb',\n",
       " 'Untitled1.ipynb',\n",
       " 'video opener.ipynb',\n",
       " 'Web Scraping BeautifulSoup.ipynb',\n",
       " 'webcam.ipynb',\n",
       " 'YouTube_dl.ipynb']"
      ]
     },
     "execution_count": 25,
     "metadata": {},
     "output_type": "execute_result"
    }
   ],
   "source": [
    "os.rmdir('...mkdir')\n",
    "os.listdir()"
   ]
  },
  {
   "cell_type": "code",
   "execution_count": null,
   "metadata": {},
   "outputs": [],
   "source": []
  },
  {
   "cell_type": "code",
   "execution_count": null,
   "metadata": {},
   "outputs": [],
   "source": []
  }
 ],
 "metadata": {
  "kernelspec": {
   "display_name": "Python 3",
   "language": "python",
   "name": "python3"
  },
  "language_info": {
   "codemirror_mode": {
    "name": "ipython",
    "version": 3
   },
   "file_extension": ".py",
   "mimetype": "text/x-python",
   "name": "python",
   "nbconvert_exporter": "python",
   "pygments_lexer": "ipython3",
   "version": "3.7.4"
  }
 },
 "nbformat": 4,
 "nbformat_minor": 2
}
