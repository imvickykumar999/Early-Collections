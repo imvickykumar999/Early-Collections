{
 "cells": [
  {
   "cell_type": "code",
   "execution_count": 83,
   "metadata": {},
   "outputs": [],
   "source": [
    "# https://likegeeks.com/python-image-processing/"
   ]
  },
  {
   "cell_type": "markdown",
   "metadata": {},
   "source": [
    "# Rotate an Image"
   ]
  },
  {
   "cell_type": "code",
   "execution_count": 1,
   "metadata": {
    "scrolled": true
   },
   "outputs": [
    {
     "data": {
      "text/plain": [
       "array([[[ 99,  46,   3],\n",
       "        [ 98,  45,   2],\n",
       "        [ 98,  45,   2],\n",
       "        ...,\n",
       "        [208, 146,  32],\n",
       "        [210, 147,  33],\n",
       "        [211, 148,  34]],\n",
       "\n",
       "       [[ 99,  45,   4],\n",
       "        [101,  45,   4],\n",
       "        [101,  45,   4],\n",
       "        ...,\n",
       "        [207, 145,  31],\n",
       "        [209, 146,  32],\n",
       "        [210, 147,  33]],\n",
       "\n",
       "       [[103,  44,   4],\n",
       "        [103,  44,   4],\n",
       "        [103,  44,   4],\n",
       "        ...,\n",
       "        [209, 146,  32],\n",
       "        [209, 146,  32],\n",
       "        [209, 146,  32]],\n",
       "\n",
       "       ...,\n",
       "\n",
       "       [[ 92,  77,   8],\n",
       "        [ 93,  77,   8],\n",
       "        [ 93,  78,   6],\n",
       "        ...,\n",
       "        [164, 124,  59],\n",
       "        [166, 126,  61],\n",
       "        [166, 126,  61]],\n",
       "\n",
       "       [[ 90,  75,   3],\n",
       "        [ 95,  77,   6],\n",
       "        [ 96,  78,   7],\n",
       "        ...,\n",
       "        [165, 124,  51],\n",
       "        [165, 125,  53],\n",
       "        [164, 124,  52]],\n",
       "\n",
       "       [[ 90,  75,   3],\n",
       "        [ 95,  77,   6],\n",
       "        [ 96,  78,   7],\n",
       "        ...,\n",
       "        [165, 124,  51],\n",
       "        [164, 124,  52],\n",
       "        [164, 124,  52]]], dtype=uint8)"
      ]
     },
     "execution_count": 1,
     "metadata": {},
     "output_type": "execute_result"
    }
   ],
   "source": [
    "import cv2\n",
    "\n",
    "img = cv2.imread(r'C:\\Users\\Vicky Kumar\\Pictures\\Saved Pictures\\fish.jpg')\n",
    "img"
   ]
  },
  {
   "cell_type": "code",
   "execution_count": 2,
   "metadata": {},
   "outputs": [
    {
     "data": {
      "text/plain": [
       "numpy.ndarray"
      ]
     },
     "execution_count": 2,
     "metadata": {},
     "output_type": "execute_result"
    }
   ],
   "source": [
    "type(img)"
   ]
  },
  {
   "cell_type": "code",
   "execution_count": 3,
   "metadata": {},
   "outputs": [],
   "source": [
    "# cv2.imshow('Original Image', img)\n",
    "# cv2.waitKey(0)"
   ]
  },
  {
   "cell_type": "code",
   "execution_count": 4,
   "metadata": {},
   "outputs": [
    {
     "data": {
      "text/plain": [
       "(698, 920, 3)"
      ]
     },
     "execution_count": 4,
     "metadata": {},
     "output_type": "execute_result"
    }
   ],
   "source": [
    "img.shape"
   ]
  },
  {
   "cell_type": "code",
   "execution_count": 5,
   "metadata": {},
   "outputs": [
    {
     "data": {
      "text/plain": [
       "(698, 920)"
      ]
     },
     "execution_count": 5,
     "metadata": {},
     "output_type": "execute_result"
    }
   ],
   "source": [
    "height, width = img.shape[0:2]\n",
    "img.shape[0:2]"
   ]
  },
  {
   "cell_type": "code",
   "execution_count": 6,
   "metadata": {},
   "outputs": [
    {
     "data": {
      "text/plain": [
       "array([[ 3.53553391e-01,  3.53553391e-01,  1.73975307e+02],\n",
       "       [-3.53553391e-01,  3.53553391e-01,  3.88244426e+02]])"
      ]
     },
     "execution_count": 6,
     "metadata": {},
     "output_type": "execute_result"
    }
   ],
   "source": [
    "rotationMatrix = cv2.getRotationMatrix2D((width/2, height/2), 45, .5)\n",
    "rotationMatrix"
   ]
  },
  {
   "cell_type": "code",
   "execution_count": 7,
   "metadata": {
    "scrolled": true
   },
   "outputs": [
    {
     "data": {
      "text/plain": [
       "array([[[0, 0, 0],\n",
       "        [0, 0, 0],\n",
       "        [0, 0, 0],\n",
       "        ...,\n",
       "        [0, 0, 0],\n",
       "        [0, 0, 0],\n",
       "        [0, 0, 0]],\n",
       "\n",
       "       [[0, 0, 0],\n",
       "        [0, 0, 0],\n",
       "        [0, 0, 0],\n",
       "        ...,\n",
       "        [0, 0, 0],\n",
       "        [0, 0, 0],\n",
       "        [0, 0, 0]],\n",
       "\n",
       "       [[0, 0, 0],\n",
       "        [0, 0, 0],\n",
       "        [0, 0, 0],\n",
       "        ...,\n",
       "        [0, 0, 0],\n",
       "        [0, 0, 0],\n",
       "        [0, 0, 0]],\n",
       "\n",
       "       ...,\n",
       "\n",
       "       [[0, 0, 0],\n",
       "        [0, 0, 0],\n",
       "        [0, 0, 0],\n",
       "        ...,\n",
       "        [0, 0, 0],\n",
       "        [0, 0, 0],\n",
       "        [0, 0, 0]],\n",
       "\n",
       "       [[0, 0, 0],\n",
       "        [0, 0, 0],\n",
       "        [0, 0, 0],\n",
       "        ...,\n",
       "        [0, 0, 0],\n",
       "        [0, 0, 0],\n",
       "        [0, 0, 0]],\n",
       "\n",
       "       [[0, 0, 0],\n",
       "        [0, 0, 0],\n",
       "        [0, 0, 0],\n",
       "        ...,\n",
       "        [0, 0, 0],\n",
       "        [0, 0, 0],\n",
       "        [0, 0, 0]]], dtype=uint8)"
      ]
     },
     "execution_count": 7,
     "metadata": {},
     "output_type": "execute_result"
    }
   ],
   "source": [
    "rotatedImage = cv2.warpAffine(img, rotationMatrix, (width, height))\n",
    "rotatedImage"
   ]
  },
  {
   "cell_type": "code",
   "execution_count": 8,
   "metadata": {},
   "outputs": [],
   "source": [
    "# cv2.imshow('Original Image', img)\n",
    "# cv2.imshow('Rotated Image', rotatedImage)\n",
    "\n",
    "# cv2.waitKey(0)"
   ]
  },
  {
   "cell_type": "markdown",
   "metadata": {},
   "source": [
    "# Crop an Image"
   ]
  },
  {
   "cell_type": "code",
   "execution_count": 9,
   "metadata": {},
   "outputs": [
    {
     "data": {
      "text/plain": [
       "(104, 138, 593, 782)"
      ]
     },
     "execution_count": 9,
     "metadata": {},
     "output_type": "execute_result"
    }
   ],
   "source": [
    "startRow = int(height*.15)\n",
    "startCol = int(width*.15)\n",
    "endRow = int(height*.85)\n",
    "endCol = int(width*.85)\n",
    "\n",
    "startRow, startCol, endRow, endCol"
   ]
  },
  {
   "cell_type": "code",
   "execution_count": 10,
   "metadata": {
    "scrolled": true
   },
   "outputs": [
    {
     "data": {
      "text/plain": [
       "array([[[211, 113,  11],\n",
       "        [208, 113,  10],\n",
       "        [207, 112,   9],\n",
       "        ...,\n",
       "        [233, 164,  47],\n",
       "        [233, 164,  47],\n",
       "        [236, 166,  52]],\n",
       "\n",
       "       [[210, 112,  10],\n",
       "        [208, 113,  10],\n",
       "        [206, 111,   8],\n",
       "        ...,\n",
       "        [232, 163,  46],\n",
       "        [233, 164,  47],\n",
       "        [236, 166,  52]],\n",
       "\n",
       "       [[210, 112,  10],\n",
       "        [207, 112,   9],\n",
       "        [206, 111,   8],\n",
       "        ...,\n",
       "        [233, 164,  47],\n",
       "        [234, 165,  48],\n",
       "        [237, 167,  53]],\n",
       "\n",
       "       ...,\n",
       "\n",
       "       [[ 31,  48,   5],\n",
       "        [ 28,  47,   4],\n",
       "        [ 27,  46,   3],\n",
       "        ...,\n",
       "        [163, 108,   4],\n",
       "        [168, 110,   5],\n",
       "        [173, 113,   7]],\n",
       "\n",
       "       [[ 32,  49,   6],\n",
       "        [ 31,  48,   5],\n",
       "        [ 27,  46,   3],\n",
       "        ...,\n",
       "        [163, 108,   3],\n",
       "        [167, 109,   4],\n",
       "        [174, 112,   6]],\n",
       "\n",
       "       [[ 32,  46,   4],\n",
       "        [ 30,  47,   4],\n",
       "        [ 29,  46,   3],\n",
       "        ...,\n",
       "        [168, 110,   5],\n",
       "        [170, 108,   2],\n",
       "        [171, 105,   0]]], dtype=uint8)"
      ]
     },
     "execution_count": 10,
     "metadata": {},
     "output_type": "execute_result"
    }
   ],
   "source": [
    "croppedImage = img[startRow:endRow, startCol:endCol]\n",
    "croppedImage"
   ]
  },
  {
   "cell_type": "code",
   "execution_count": 11,
   "metadata": {},
   "outputs": [],
   "source": [
    "# cv2.imshow('Original Image', img)\n",
    "# cv2.imshow('Cropped Image', croppedImage)\n",
    "\n",
    "# cv2.waitKey(0)"
   ]
  },
  {
   "cell_type": "markdown",
   "metadata": {},
   "source": [
    "# Resize an Image"
   ]
  },
  {
   "cell_type": "code",
   "execution_count": 12,
   "metadata": {
    "scrolled": true
   },
   "outputs": [
    {
     "data": {
      "text/plain": [
       "array([[[ 99,  46,   3],\n",
       "        [ 98,  45,   2],\n",
       "        [ 98,  45,   2],\n",
       "        ...,\n",
       "        [208, 146,  32],\n",
       "        [210, 147,  33],\n",
       "        [211, 148,  34]],\n",
       "\n",
       "       [[ 99,  45,   4],\n",
       "        [101,  45,   4],\n",
       "        [101,  45,   4],\n",
       "        ...,\n",
       "        [207, 145,  31],\n",
       "        [209, 146,  32],\n",
       "        [210, 147,  33]],\n",
       "\n",
       "       [[103,  44,   4],\n",
       "        [103,  44,   4],\n",
       "        [103,  44,   4],\n",
       "        ...,\n",
       "        [209, 146,  32],\n",
       "        [209, 146,  32],\n",
       "        [209, 146,  32]],\n",
       "\n",
       "       ...,\n",
       "\n",
       "       [[ 92,  77,   8],\n",
       "        [ 93,  77,   8],\n",
       "        [ 93,  78,   6],\n",
       "        ...,\n",
       "        [164, 124,  59],\n",
       "        [166, 126,  61],\n",
       "        [166, 126,  61]],\n",
       "\n",
       "       [[ 90,  75,   3],\n",
       "        [ 95,  77,   6],\n",
       "        [ 96,  78,   7],\n",
       "        ...,\n",
       "        [165, 124,  51],\n",
       "        [165, 125,  53],\n",
       "        [164, 124,  52]],\n",
       "\n",
       "       [[ 90,  75,   3],\n",
       "        [ 95,  77,   6],\n",
       "        [ 96,  78,   7],\n",
       "        ...,\n",
       "        [165, 124,  51],\n",
       "        [164, 124,  52],\n",
       "        [164, 124,  52]]], dtype=uint8)"
      ]
     },
     "execution_count": 12,
     "metadata": {},
     "output_type": "execute_result"
    }
   ],
   "source": [
    "newImg = cv2.resize(img, (width, height), fx=0.75, fy=0.75)\n",
    "newImg"
   ]
  },
  {
   "cell_type": "code",
   "execution_count": 13,
   "metadata": {},
   "outputs": [],
   "source": [
    "# cv2.imshow('Original Image', img)\n",
    "# cv2.imshow('Resized Image', newImg)\n",
    "# cv2.waitKey(0)"
   ]
  },
  {
   "cell_type": "markdown",
   "metadata": {},
   "source": [
    "# Adjust Image Contrast\n",
    "\n",
    "cv2.addWeighted(source_img1, alpha1, source_img2, alpha2, beta)\n"
   ]
  },
  {
   "cell_type": "code",
   "execution_count": 85,
   "metadata": {
    "scrolled": true
   },
   "outputs": [
    {
     "data": {
      "text/plain": [
       "array([[[248, 115,   8],\n",
       "        [245, 112,   5],\n",
       "        [245, 112,   5],\n",
       "        ...,\n",
       "        [255, 255,  80],\n",
       "        [255, 255,  82],\n",
       "        [255, 255,  85]],\n",
       "\n",
       "       [[248, 112,  10],\n",
       "        [252, 112,  10],\n",
       "        [252, 112,  10],\n",
       "        ...,\n",
       "        [255, 255,  78],\n",
       "        [255, 255,  80],\n",
       "        [255, 255,  82]],\n",
       "\n",
       "       [[255, 110,  10],\n",
       "        [255, 110,  10],\n",
       "        [255, 110,  10],\n",
       "        ...,\n",
       "        [255, 255,  80],\n",
       "        [255, 255,  80],\n",
       "        [255, 255,  80]],\n",
       "\n",
       "       ...,\n",
       "\n",
       "       [[230, 192,  20],\n",
       "        [232, 192,  20],\n",
       "        [232, 195,  15],\n",
       "        ...,\n",
       "        [255, 255, 148],\n",
       "        [255, 255, 152],\n",
       "        [255, 255, 152]],\n",
       "\n",
       "       [[225, 188,   8],\n",
       "        [238, 192,  15],\n",
       "        [240, 195,  18],\n",
       "        ...,\n",
       "        [255, 255, 128],\n",
       "        [255, 255, 132],\n",
       "        [255, 255, 130]],\n",
       "\n",
       "       [[225, 188,   8],\n",
       "        [238, 192,  15],\n",
       "        [240, 195,  18],\n",
       "        ...,\n",
       "        [255, 255, 128],\n",
       "        [255, 255, 130],\n",
       "        [255, 255, 130]]], dtype=uint8)"
      ]
     },
     "execution_count": 85,
     "metadata": {},
     "output_type": "execute_result"
    }
   ],
   "source": [
    "import numpy as np\n",
    "\n",
    "img = cv2.imread(r'C:\\Users\\Vicky Kumar\\Pictures\\Saved Pictures\\fish.jpg')\n",
    "img1 = np.zeros(img.shape, img.dtype)\n",
    "\n",
    "contrast_img = cv2.addWeighted(img, 2.5, img1, 0, 0)\n",
    "contrast_img"
   ]
  },
  {
   "cell_type": "code",
   "execution_count": 87,
   "metadata": {},
   "outputs": [],
   "source": [
    "# cv2.imshow('Original Image', img)\n",
    "# cv2.imshow('Contrast Image', contrast_img)\n",
    "\n",
    "# cv2.waitKey(0)"
   ]
  },
  {
   "cell_type": "code",
   "execution_count": 88,
   "metadata": {},
   "outputs": [
    {
     "data": {
      "text/plain": [
       "(<function addWeighted>, <function numpy.zeros>, (698, 920, 3), dtype('uint8'))"
      ]
     },
     "execution_count": 88,
     "metadata": {},
     "output_type": "execute_result"
    }
   ],
   "source": [
    "cv2.addWeighted, np.zeros, img.shape, img.dtype"
   ]
  },
  {
   "cell_type": "markdown",
   "metadata": {},
   "source": [
    "# Make an image blurry"
   ]
  },
  {
   "cell_type": "markdown",
   "metadata": {},
   "source": [
    "### Gaussian Blur"
   ]
  },
  {
   "cell_type": "code",
   "execution_count": 89,
   "metadata": {
    "scrolled": true
   },
   "outputs": [
    {
     "data": {
      "text/plain": [
       "array([[[101,  45,   3],\n",
       "        [101,  45,   3],\n",
       "        [101,  45,   3],\n",
       "        ...,\n",
       "        [209, 146,  33],\n",
       "        [209, 146,  32],\n",
       "        [209, 146,  32]],\n",
       "\n",
       "       [[101,  45,   4],\n",
       "        [101,  45,   4],\n",
       "        [102,  44,   3],\n",
       "        ...,\n",
       "        [209, 146,  33],\n",
       "        [209, 146,  32],\n",
       "        [209, 146,  32]],\n",
       "\n",
       "       [[103,  44,   4],\n",
       "        [103,  44,   4],\n",
       "        [103,  44,   4],\n",
       "        ...,\n",
       "        [209, 146,  32],\n",
       "        [209, 146,  32],\n",
       "        [209, 146,  32]],\n",
       "\n",
       "       ...,\n",
       "\n",
       "       [[ 94,  77,   6],\n",
       "        [ 94,  77,   6],\n",
       "        [ 94,  77,   6],\n",
       "        ...,\n",
       "        [164, 124,  56],\n",
       "        [164, 125,  57],\n",
       "        [164, 125,  57]],\n",
       "\n",
       "       [[ 94,  77,   6],\n",
       "        [ 94,  77,   6],\n",
       "        [ 94,  77,   6],\n",
       "        ...,\n",
       "        [164, 124,  53],\n",
       "        [164, 124,  55],\n",
       "        [165, 125,  55]],\n",
       "\n",
       "       [[ 94,  77,   6],\n",
       "        [ 94,  77,   6],\n",
       "        [ 95,  77,   6],\n",
       "        ...,\n",
       "        [164, 124,  53],\n",
       "        [164, 124,  54],\n",
       "        [165, 124,  54]]], dtype=uint8)"
      ]
     },
     "execution_count": 89,
     "metadata": {},
     "output_type": "execute_result"
    }
   ],
   "source": [
    "blur_image = cv2.GaussianBlur(img, (7,7), 0)\n",
    "blur_image"
   ]
  },
  {
   "cell_type": "code",
   "execution_count": 90,
   "metadata": {},
   "outputs": [],
   "source": [
    "# cv2.imshow('Original Image', img)\n",
    "# cv2.imshow('Gaussian Blur Image', blur_image)\n",
    "\n",
    "# cv2.waitKey(0)"
   ]
  },
  {
   "cell_type": "markdown",
   "metadata": {},
   "source": [
    "### Median Blur"
   ]
  },
  {
   "cell_type": "code",
   "execution_count": 179,
   "metadata": {
    "scrolled": true
   },
   "outputs": [
    {
     "data": {
      "text/plain": [
       "array([[138, 170, 213, ..., 150,  33,  33],\n",
       "       [138, 198, 218, ..., 150,  33,  33],\n",
       "       [138, 203, 226, ..., 150,  33,  33],\n",
       "       ...,\n",
       "       [138, 194, 207, ..., 150,  52,  52],\n",
       "       [138, 174, 195, ..., 150,  52,  52],\n",
       "       [138, 174, 195, ..., 150,  52,  52]], dtype=uint8)"
      ]
     },
     "execution_count": 179,
     "metadata": {},
     "output_type": "execute_result"
    }
   ],
   "source": [
    "img = cv2.imread(r'C:\\Users\\Vicky Kumar\\Pictures\\Saved Pictures\\10-Median-Blur.png', 0)\n",
    "\n",
    "height, width = img.shape[0:2]\n",
    "startRow = int(height/16)\n",
    "startCol = int(width*0)\n",
    "endRow = int(height*1)\n",
    "endCol = int(width*.5)\n",
    "croppedImage = img[startRow:endRow, startCol:endCol]\n",
    "\n",
    "blur_image = cv2.medianBlur(croppedImage,5)\n",
    "blur_image"
   ]
  },
  {
   "cell_type": "code",
   "execution_count": 180,
   "metadata": {},
   "outputs": [
    {
     "data": {
      "text/plain": [
       "-1"
      ]
     },
     "execution_count": 180,
     "metadata": {},
     "output_type": "execute_result"
    }
   ],
   "source": [
    "# cv2.imshow('Original Image', croppedImage)\n",
    "# cv2.imshow('Median Blur Image', blur_image)\n",
    "# cv2.waitKey(0)"
   ]
  },
  {
   "cell_type": "markdown",
   "metadata": {},
   "source": [
    "# Detect Edges"
   ]
  },
  {
   "cell_type": "code",
   "execution_count": 93,
   "metadata": {},
   "outputs": [
    {
     "data": {
      "text/plain": [
       "array([[0, 0, 0, ..., 0, 0, 0],\n",
       "       [0, 0, 0, ..., 0, 0, 0],\n",
       "       [0, 0, 0, ..., 0, 0, 0],\n",
       "       ...,\n",
       "       [0, 0, 0, ..., 0, 0, 0],\n",
       "       [0, 0, 0, ..., 0, 0, 0],\n",
       "       [0, 0, 0, ..., 0, 0, 0]], dtype=uint8)"
      ]
     },
     "execution_count": 93,
     "metadata": {},
     "output_type": "execute_result"
    }
   ],
   "source": [
    "import cv2\n",
    "img = cv2.imread(r'C:\\Users\\Vicky Kumar\\Pictures\\Saved Pictures\\status.png', 1)\n",
    "# img = cv2.imread(r'C:\\Users\\Vicky Kumar\\Pictures\\Saved Pictures\\10-Median-Blur.png')\n",
    "\n",
    "height, width = img.shape[0:2]\n",
    "edge_img = cv2.Canny(img, width, height)\n",
    "edge_img"
   ]
  },
  {
   "cell_type": "code",
   "execution_count": 94,
   "metadata": {},
   "outputs": [
    {
     "data": {
      "text/plain": [
       "-1"
      ]
     },
     "execution_count": 94,
     "metadata": {},
     "output_type": "execute_result"
    }
   ],
   "source": [
    "# cv2.imshow('Original Image', img)\n",
    "# cv2.imshow(\"Detected Edges\", edge_img)\n",
    "\n",
    "# cv2.waitKey(0)"
   ]
  },
  {
   "cell_type": "markdown",
   "metadata": {},
   "source": [
    "# Convert image to grayscale (Black & White)"
   ]
  },
  {
   "cell_type": "code",
   "execution_count": 140,
   "metadata": {},
   "outputs": [
    {
     "data": {
      "text/plain": [
       "array([[ 39,  38,  38, ..., 119, 120, 121],\n",
       "       [ 39,  39,  39, ..., 118, 119, 120],\n",
       "       [ 39,  39,  39, ..., 119, 119, 119],\n",
       "       ...,\n",
       "       [ 58,  58,  58, ..., 109, 111, 111],\n",
       "       [ 55,  58,  59, ..., 107, 108, 107],\n",
       "       [ 55,  58,  59, ..., 107, 107, 107]], dtype=uint8)"
      ]
     },
     "execution_count": 140,
     "metadata": {},
     "output_type": "execute_result"
    }
   ],
   "source": [
    "img = cv2.imread(r'C:\\Users\\Vicky Kumar\\Pictures\\Saved Pictures\\fish.jpg')\n",
    "gray_img = cv2.cvtColor(img, cv2.COLOR_BGR2GRAY)\n",
    "gray_img"
   ]
  },
  {
   "cell_type": "code",
   "execution_count": 137,
   "metadata": {},
   "outputs": [
    {
     "data": {
      "text/plain": [
       "-1"
      ]
     },
     "execution_count": 137,
     "metadata": {},
     "output_type": "execute_result"
    }
   ],
   "source": [
    "# cv2.imshow(\"Original Image\", img)\n",
    "# cv2.imshow(\"Gray Scale Image\", gray_img)\n",
    "\n",
    "# cv2.waitKey(0)"
   ]
  },
  {
   "cell_type": "markdown",
   "metadata": {},
   "source": [
    "# Centroid (Center of blob) detection"
   ]
  },
  {
   "cell_type": "code",
   "execution_count": 155,
   "metadata": {},
   "outputs": [
    {
     "data": {
      "text/plain": [
       "array([[255, 255, 255, ..., 255, 255, 255],\n",
       "       [255, 255, 255, ..., 255, 255, 255],\n",
       "       [255, 255, 255, ..., 255, 255, 255],\n",
       "       ...,\n",
       "       [255, 255, 255, ..., 255, 255, 255],\n",
       "       [255, 255, 255, ..., 255, 255, 255],\n",
       "       [255, 255, 255, ..., 255, 255, 255]], dtype=uint8)"
      ]
     },
     "execution_count": 155,
     "metadata": {},
     "output_type": "execute_result"
    }
   ],
   "source": [
    "import cv2\n",
    "\n",
    "img = cv2.imread(r'C:\\Users\\Vicky Kumar\\Pictures\\Saved Pictures\\py.jpg')\n",
    "# cv2.cvtColor(img, cv2.COLOR_BGR2GRAY)\n",
    "gray_img = cv2.cvtColor(img, cv2.COLOR_BGR2GRAY)\n",
    "gray_img"
   ]
  },
  {
   "cell_type": "code",
   "execution_count": 156,
   "metadata": {
    "scrolled": true
   },
   "outputs": [
    {
     "data": {
      "text/plain": [
       "(dict,\n",
       " {'m00': 95823144.0,\n",
       "  'm10': 30600929028.0,\n",
       "  'm01': 30984955081.0,\n",
       "  'm20': 13122412500470.0,\n",
       "  'm11': 9894963465709.0,\n",
       "  'm02': 13456069241041.0,\n",
       "  'm30': 6330764666097420.0,\n",
       "  'm21': 4243261798827825.0,\n",
       "  'm12': 4297196641149427.0,\n",
       "  'm03': 6574223500783771.0,\n",
       "  'mu20': 3350067132875.9976,\n",
       "  'mu11': -19852407.22685386,\n",
       "  'mu02': 3436908928668.1587,\n",
       "  'mu30': 474076306604.6929,\n",
       "  'mu21': 68245533365.33664,\n",
       "  'mu12': 40730787551.067085,\n",
       "  'mu03': 439629269154.5414,\n",
       "  'nu20': 0.00036484859466498276,\n",
       "  'nu11': -2.162082904654043e-09,\n",
       "  'nu02': 0.0003743063475685053,\n",
       "  'nu30': 5.274389647449576e-09,\n",
       "  'nu21': 7.592734115838284e-10,\n",
       "  'nu12': 4.531549904495685e-10,\n",
       "  'nu03': 4.891145230504086e-09})"
      ]
     },
     "execution_count": 156,
     "metadata": {},
     "output_type": "execute_result"
    }
   ],
   "source": [
    "moment = cv2.moments(gray_img)\n",
    "type(moment), moment"
   ]
  },
  {
   "cell_type": "code",
   "execution_count": 157,
   "metadata": {},
   "outputs": [
    {
     "data": {
      "text/plain": [
       "319"
      ]
     },
     "execution_count": 157,
     "metadata": {},
     "output_type": "execute_result"
    }
   ],
   "source": [
    "X = int(moment [\"m10\"] / moment[\"m00\"])\n",
    "X"
   ]
  },
  {
   "cell_type": "code",
   "execution_count": 158,
   "metadata": {},
   "outputs": [
    {
     "data": {
      "text/plain": [
       "323"
      ]
     },
     "execution_count": 158,
     "metadata": {},
     "output_type": "execute_result"
    }
   ],
   "source": [
    "Y = int(moment [\"m01\"] / moment[\"m00\"])\n",
    "Y"
   ]
  },
  {
   "cell_type": "code",
   "execution_count": 159,
   "metadata": {
    "scrolled": true
   },
   "outputs": [
    {
     "data": {
      "text/plain": [
       "array([[[255, 255, 255],\n",
       "        [255, 255, 255],\n",
       "        [255, 255, 255],\n",
       "        ...,\n",
       "        [255, 255, 255],\n",
       "        [255, 255, 255],\n",
       "        [255, 255, 255]],\n",
       "\n",
       "       [[255, 255, 255],\n",
       "        [255, 255, 255],\n",
       "        [255, 255, 255],\n",
       "        ...,\n",
       "        [255, 255, 255],\n",
       "        [255, 255, 255],\n",
       "        [255, 255, 255]],\n",
       "\n",
       "       [[255, 255, 255],\n",
       "        [255, 255, 255],\n",
       "        [255, 255, 255],\n",
       "        ...,\n",
       "        [255, 255, 255],\n",
       "        [255, 255, 255],\n",
       "        [255, 255, 255]],\n",
       "\n",
       "       ...,\n",
       "\n",
       "       [[255, 255, 255],\n",
       "        [255, 255, 255],\n",
       "        [255, 255, 255],\n",
       "        ...,\n",
       "        [255, 255, 255],\n",
       "        [255, 255, 255],\n",
       "        [255, 255, 255]],\n",
       "\n",
       "       [[255, 255, 255],\n",
       "        [255, 255, 255],\n",
       "        [255, 255, 255],\n",
       "        ...,\n",
       "        [255, 255, 255],\n",
       "        [255, 255, 255],\n",
       "        [255, 255, 255]],\n",
       "\n",
       "       [[255, 255, 255],\n",
       "        [255, 255, 255],\n",
       "        [255, 255, 255],\n",
       "        ...,\n",
       "        [255, 255, 255],\n",
       "        [255, 255, 255],\n",
       "        [255, 255, 255]]], dtype=uint8)"
      ]
     },
     "execution_count": 159,
     "metadata": {},
     "output_type": "execute_result"
    }
   ],
   "source": [
    "c = cv2.circle(img, (X, Y), 15, (205, 114, 101), 1)\n",
    "c"
   ]
  },
  {
   "cell_type": "code",
   "execution_count": 160,
   "metadata": {},
   "outputs": [
    {
     "data": {
      "text/plain": [
       "-1"
      ]
     },
     "execution_count": 160,
     "metadata": {},
     "output_type": "execute_result"
    }
   ],
   "source": [
    "cv2.imshow(\"Center of the Image\", img)\n",
    "\n",
    "cv2.waitKey(0)"
   ]
  },
  {
   "cell_type": "code",
   "execution_count": 169,
   "metadata": {},
   "outputs": [
    {
     "name": "stdout",
     "output_type": "stream",
     "text": [
      "all block maches\n"
     ]
    }
   ],
   "source": [
    "# ---------------------------------------------------------------------------\n",
    "# ValueError                                Traceback (most recent call last)\n",
    "# <ipython-input-166-165cf89a4138> in <module>\n",
    "# ----> 1 if c == img:\n",
    "#       2     print(1)\n",
    "\n",
    "# ValueError: The truth value of an array with more than one element is\n",
    "# ambiguous.\n",
    "\n",
    "# Use a.any() or a.all()\n",
    "\n",
    "if c.all() == img.all():\n",
    "    print('all block maches')"
   ]
  },
  {
   "cell_type": "code",
   "execution_count": 170,
   "metadata": {},
   "outputs": [
    {
     "data": {
      "text/plain": [
       "-1"
      ]
     },
     "execution_count": 170,
     "metadata": {},
     "output_type": "execute_result"
    }
   ],
   "source": [
    "# # img = cv2.imread(r'C:\\Users\\Vicky Kumar\\Pictures\\Saved Pictures\\py.jpg')\n",
    "\n",
    "# cv2.imshow(\"Center of the Image\", img)\n",
    "\n",
    "# cv2.waitKey(0)"
   ]
  },
  {
   "cell_type": "markdown",
   "metadata": {},
   "source": [
    "# Apply a mask for a colored image\n",
    "\n",
    "### https://en.wikipedia.org/wiki/Circle_Hough_Transform"
   ]
  },
  {
   "cell_type": "code",
   "execution_count": 210,
   "metadata": {
    "scrolled": true
   },
   "outputs": [
    {
     "data": {
      "text/plain": [
       "-1"
      ]
     },
     "execution_count": 210,
     "metadata": {},
     "output_type": "execute_result"
    }
   ],
   "source": [
    "import cv2\n",
    "import numpy as np\n",
    "\n",
    "img = cv2.imread(r'C:\\Users\\Vicky Kumar\\Pictures\\Saved Pictures\\fish.jpg')\n",
    "\n",
    "cv2.imshow(\"Original Image\", img)\n",
    "cv2.waitKey(0)"
   ]
  },
  {
   "cell_type": "code",
   "execution_count": 211,
   "metadata": {},
   "outputs": [
    {
     "data": {
      "text/plain": [
       "-1"
      ]
     },
     "execution_count": 211,
     "metadata": {},
     "output_type": "execute_result"
    }
   ],
   "source": [
    "gray_img = cv2.cvtColor(img, cv2.COLOR_BGR2RGB)\n",
    "\n",
    "cv2.imshow(\"Gray Image\", gray_img)\n",
    "cv2.waitKey(0)"
   ]
  },
  {
   "cell_type": "code",
   "execution_count": 213,
   "metadata": {
    "scrolled": true
   },
   "outputs": [
    {
     "data": {
      "text/plain": [
       "-1"
      ]
     },
     "execution_count": 213,
     "metadata": {},
     "output_type": "execute_result"
    }
   ],
   "source": [
    "medianBlurimg = cv2.medianBlur(gray_img, 3)\n",
    "\n",
    "cv2.imshow(\"Median Blurimg Image\", medianBlurimg)\n",
    "cv2.waitKey(0)"
   ]
  },
  {
   "cell_type": "code",
   "execution_count": 214,
   "metadata": {},
   "outputs": [
    {
     "ename": "error",
     "evalue": "OpenCV(4.1.2) C:\\projects\\opencv-python\\opencv\\modules\\imgproc\\src\\hough.cpp:1728: error: (-215:Assertion failed) !_image.empty() && _image.type() == CV_8UC1 && (_image.isMat() || _image.isUMat()) in function 'cv::HoughCircles'\n",
     "output_type": "error",
     "traceback": [
      "\u001b[1;31m---------------------------------------------------------------------------\u001b[0m",
      "\u001b[1;31merror\u001b[0m                                     Traceback (most recent call last)",
      "\u001b[1;32m<ipython-input-214-dffb23c1d137>\u001b[0m in \u001b[0;36m<module>\u001b[1;34m\u001b[0m\n\u001b[1;32m----> 1\u001b[1;33m \u001b[0mcircles\u001b[0m \u001b[1;33m=\u001b[0m \u001b[0mcv2\u001b[0m\u001b[1;33m.\u001b[0m\u001b[0mHoughCircles\u001b[0m\u001b[1;33m(\u001b[0m\u001b[0mmedianBlurimg\u001b[0m\u001b[1;33m,\u001b[0m \u001b[0mcv2\u001b[0m\u001b[1;33m.\u001b[0m\u001b[0mHOUGH_GRADIENT\u001b[0m\u001b[1;33m,\u001b[0m \u001b[1;36m1\u001b[0m\u001b[1;33m,\u001b[0m \u001b[1;36m20\u001b[0m\u001b[1;33m,\u001b[0m \u001b[0mparam1\u001b[0m\u001b[1;33m=\u001b[0m\u001b[1;36m50\u001b[0m\u001b[1;33m,\u001b[0m \u001b[0mparam2\u001b[0m\u001b[1;33m=\u001b[0m\u001b[1;36m50\u001b[0m\u001b[1;33m,\u001b[0m \u001b[0mminRadius\u001b[0m\u001b[1;33m=\u001b[0m\u001b[1;36m1\u001b[0m\u001b[1;33m,\u001b[0m \u001b[0mmaxRadius\u001b[0m\u001b[1;33m=\u001b[0m\u001b[1;36m0\u001b[0m\u001b[1;33m)\u001b[0m\u001b[1;33m\u001b[0m\u001b[1;33m\u001b[0m\u001b[0m\n\u001b[0m\u001b[0;32m      2\u001b[0m \u001b[1;33m\u001b[0m\u001b[0m\n\u001b[0;32m      3\u001b[0m \u001b[0mcv2\u001b[0m\u001b[1;33m.\u001b[0m\u001b[0mimshow\u001b[0m\u001b[1;33m(\u001b[0m\u001b[1;34m\"Hough Circles Image\"\u001b[0m\u001b[1;33m,\u001b[0m \u001b[0mcircles\u001b[0m\u001b[1;33m)\u001b[0m\u001b[1;33m\u001b[0m\u001b[1;33m\u001b[0m\u001b[0m\n\u001b[0;32m      4\u001b[0m \u001b[0mcv2\u001b[0m\u001b[1;33m.\u001b[0m\u001b[0mwaitKey\u001b[0m\u001b[1;33m(\u001b[0m\u001b[1;36m0\u001b[0m\u001b[1;33m)\u001b[0m\u001b[1;33m\u001b[0m\u001b[1;33m\u001b[0m\u001b[0m\n",
      "\u001b[1;31merror\u001b[0m: OpenCV(4.1.2) C:\\projects\\opencv-python\\opencv\\modules\\imgproc\\src\\hough.cpp:1728: error: (-215:Assertion failed) !_image.empty() && _image.type() == CV_8UC1 && (_image.isMat() || _image.isUMat()) in function 'cv::HoughCircles'\n"
     ]
    }
   ],
   "source": [
    "circles = cv2.HoughCircles(medianBlurimg, cv2.HOUGH_GRADIENT, 1, 20, param1=50, param2=50, minRadius=1, maxRadius=0)\n",
    "\n",
    "cv2.imshow(\"Hough Circles Image\", circles)\n",
    "cv2.waitKey(0)\n",
    "\n",
    "# i am facing problem in this cell..."
   ]
  },
  {
   "cell_type": "code",
   "execution_count": 208,
   "metadata": {},
   "outputs": [
    {
     "ename": "NameError",
     "evalue": "name 'circles' is not defined",
     "output_type": "error",
     "traceback": [
      "\u001b[1;31m---------------------------------------------------------------------------\u001b[0m",
      "\u001b[1;31mNameError\u001b[0m                                 Traceback (most recent call last)",
      "\u001b[1;32m<ipython-input-208-a899ab2d6699>\u001b[0m in \u001b[0;36m<module>\u001b[1;34m\u001b[0m\n\u001b[1;32m----> 1\u001b[1;33m \u001b[0mcirclesint16\u001b[0m \u001b[1;33m=\u001b[0m \u001b[0mnp\u001b[0m\u001b[1;33m.\u001b[0m\u001b[0muint16\u001b[0m\u001b[1;33m(\u001b[0m\u001b[0mnp\u001b[0m\u001b[1;33m.\u001b[0m\u001b[0maround\u001b[0m\u001b[1;33m(\u001b[0m\u001b[0mcircles\u001b[0m\u001b[1;33m)\u001b[0m\u001b[1;33m)\u001b[0m\u001b[1;33m\u001b[0m\u001b[1;33m\u001b[0m\u001b[0m\n\u001b[0m\u001b[0;32m      2\u001b[0m \u001b[1;33m\u001b[0m\u001b[0m\n\u001b[0;32m      3\u001b[0m \u001b[0mcv2\u001b[0m\u001b[1;33m.\u001b[0m\u001b[0mimshow\u001b[0m\u001b[1;33m(\u001b[0m\u001b[1;34m\"Circles_int16 Image\"\u001b[0m\u001b[1;33m,\u001b[0m \u001b[0mcirclesint16\u001b[0m\u001b[1;33m)\u001b[0m\u001b[1;33m\u001b[0m\u001b[1;33m\u001b[0m\u001b[0m\n\u001b[0;32m      4\u001b[0m \u001b[0mcv2\u001b[0m\u001b[1;33m.\u001b[0m\u001b[0mwaitKey\u001b[0m\u001b[1;33m(\u001b[0m\u001b[1;36m0\u001b[0m\u001b[1;33m)\u001b[0m\u001b[1;33m\u001b[0m\u001b[1;33m\u001b[0m\u001b[0m\n",
      "\u001b[1;31mNameError\u001b[0m: name 'circles' is not defined"
     ]
    }
   ],
   "source": [
    "circlesint16 = np.uint16(np.around(circles))\n",
    "\n",
    "cv2.imshow(\"Circles_int16 Image\", circlesint16)\n",
    "cv2.waitKey(0)"
   ]
  },
  {
   "cell_type": "code",
   "execution_count": 209,
   "metadata": {},
   "outputs": [
    {
     "ename": "NameError",
     "evalue": "name 'circles' is not defined",
     "output_type": "error",
     "traceback": [
      "\u001b[1;31m---------------------------------------------------------------------------\u001b[0m",
      "\u001b[1;31mNameError\u001b[0m                                 Traceback (most recent call last)",
      "\u001b[1;32m<ipython-input-209-8c1557b41bef>\u001b[0m in \u001b[0;36m<module>\u001b[1;34m\u001b[0m\n\u001b[0;32m      1\u001b[0m \u001b[0mmasking\u001b[0m \u001b[1;33m=\u001b[0m \u001b[0mnp\u001b[0m\u001b[1;33m.\u001b[0m\u001b[0mfull\u001b[0m\u001b[1;33m(\u001b[0m\u001b[1;33m(\u001b[0m\u001b[0mimg\u001b[0m\u001b[1;33m.\u001b[0m\u001b[0mshape\u001b[0m\u001b[1;33m[\u001b[0m\u001b[1;36m0\u001b[0m\u001b[1;33m]\u001b[0m\u001b[1;33m,\u001b[0m \u001b[0mimg\u001b[0m\u001b[1;33m.\u001b[0m\u001b[0mshape\u001b[0m\u001b[1;33m[\u001b[0m\u001b[1;36m1\u001b[0m\u001b[1;33m]\u001b[0m\u001b[1;33m)\u001b[0m\u001b[1;33m,\u001b[0m\u001b[1;36m0\u001b[0m\u001b[1;33m,\u001b[0m\u001b[0mdtype\u001b[0m\u001b[1;33m=\u001b[0m\u001b[0mnp\u001b[0m\u001b[1;33m.\u001b[0m\u001b[0muint8\u001b[0m\u001b[1;33m)\u001b[0m\u001b[1;33m\u001b[0m\u001b[1;33m\u001b[0m\u001b[0m\n\u001b[0;32m      2\u001b[0m \u001b[1;33m\u001b[0m\u001b[0m\n\u001b[1;32m----> 3\u001b[1;33m \u001b[1;32mfor\u001b[0m \u001b[0mj\u001b[0m \u001b[1;32min\u001b[0m \u001b[0mcircles\u001b[0m\u001b[1;33m[\u001b[0m\u001b[1;36m0\u001b[0m\u001b[1;33m,\u001b[0m \u001b[1;33m:\u001b[0m\u001b[1;33m]\u001b[0m\u001b[1;33m:\u001b[0m\u001b[1;33m\u001b[0m\u001b[1;33m\u001b[0m\u001b[0m\n\u001b[0m\u001b[0;32m      4\u001b[0m     \u001b[0mcv2\u001b[0m\u001b[1;33m.\u001b[0m\u001b[0mcircle\u001b[0m\u001b[1;33m(\u001b[0m\u001b[0mmasking\u001b[0m\u001b[1;33m,\u001b[0m \u001b[1;33m(\u001b[0m\u001b[0mj\u001b[0m\u001b[1;33m[\u001b[0m\u001b[1;36m0\u001b[0m\u001b[1;33m]\u001b[0m\u001b[1;33m,\u001b[0m \u001b[0mj\u001b[0m\u001b[1;33m[\u001b[0m\u001b[1;36m1\u001b[0m\u001b[1;33m]\u001b[0m\u001b[1;33m)\u001b[0m\u001b[1;33m,\u001b[0m \u001b[0mj\u001b[0m\u001b[1;33m[\u001b[0m\u001b[1;36m2\u001b[0m\u001b[1;33m]\u001b[0m\u001b[1;33m,\u001b[0m \u001b[1;33m(\u001b[0m\u001b[1;36m255\u001b[0m\u001b[1;33m,\u001b[0m \u001b[1;36m255\u001b[0m\u001b[1;33m,\u001b[0m \u001b[1;36m255\u001b[0m\u001b[1;33m)\u001b[0m\u001b[1;33m,\u001b[0m \u001b[1;33m-\u001b[0m\u001b[1;36m1\u001b[0m\u001b[1;33m)\u001b[0m\u001b[1;33m\u001b[0m\u001b[1;33m\u001b[0m\u001b[0m\n",
      "\u001b[1;31mNameError\u001b[0m: name 'circles' is not defined"
     ]
    }
   ],
   "source": [
    "masking = np.full((img.shape[0], img.shape[1]),0,dtype=np.uint8)\n",
    "\n",
    "for j in circles[0, :]:\n",
    "    cv2.circle(masking, (j[0], j[1]), j[2], (255, 255, 255), -1)"
   ]
  },
  {
   "cell_type": "code",
   "execution_count": 204,
   "metadata": {},
   "outputs": [
    {
     "ename": "TypeError",
     "evalue": "'masking' is an invalid keyword argument for bitwise_or()",
     "output_type": "error",
     "traceback": [
      "\u001b[1;31m---------------------------------------------------------------------------\u001b[0m",
      "\u001b[1;31mTypeError\u001b[0m                                 Traceback (most recent call last)",
      "\u001b[1;32m<ipython-input-204-d9771097f370>\u001b[0m in \u001b[0;36m<module>\u001b[1;34m\u001b[0m\n\u001b[1;32m----> 1\u001b[1;33m \u001b[0mfinal_img\u001b[0m \u001b[1;33m=\u001b[0m \u001b[0mcv2\u001b[0m\u001b[1;33m.\u001b[0m\u001b[0mbitwise_or\u001b[0m\u001b[1;33m(\u001b[0m\u001b[0mimg1\u001b[0m\u001b[1;33m,\u001b[0m \u001b[0mimg1\u001b[0m\u001b[1;33m,\u001b[0m \u001b[0mmasking\u001b[0m\u001b[1;33m=\u001b[0m\u001b[0mmasking\u001b[0m\u001b[1;33m)\u001b[0m\u001b[1;33m\u001b[0m\u001b[1;33m\u001b[0m\u001b[0m\n\u001b[0m\u001b[0;32m      2\u001b[0m \u001b[0mfinal_img\u001b[0m\u001b[1;33m\u001b[0m\u001b[1;33m\u001b[0m\u001b[0m\n",
      "\u001b[1;31mTypeError\u001b[0m: 'masking' is an invalid keyword argument for bitwise_or()"
     ]
    }
   ],
   "source": [
    "final_img = cv2.bitwise_or(img1, img1, masking=masking)\n",
    "final_img"
   ]
  },
  {
   "cell_type": "code",
   "execution_count": 228,
   "metadata": {},
   "outputs": [
    {
     "name": "stdout",
     "output_type": "stream",
     "text": [
      "[[  0   0   0]\n",
      " [110 110 110]\n",
      " [104 104 104]\n",
      " [ 97  97  97]\n",
      " [ 96  96  96]\n",
      " [ 95  95  95]\n",
      " [ 94  94  94]\n",
      " [ 94  94  94]\n",
      " [ 94  94  94]\n",
      " [ 94  94  94]\n",
      " [ 95  95  95]\n",
      " [ 97  97  97]\n",
      " [ 97  97  97]\n",
      " [ 96  96  96]\n",
      " [ 96  96  96]\n",
      " [ 94  94  94]\n",
      " [ 94  94  94]\n",
      " [ 94  94  94]\n",
      " [ 93  93  93]\n",
      " [ 93  93  93]\n",
      " [ 93  93  93]\n",
      " [ 93  93  93]\n",
      " [ 93  93  93]\n",
      " [ 93  93  93]\n",
      " [ 93  93  93]\n",
      " [ 93  93  93]\n",
      " [ 93  93  93]\n",
      " [ 93  93  93]\n",
      " [ 93  93  93]\n",
      " [ 91  91  91]\n",
      " [ 89  89  89]\n",
      " [ 89  89  89]\n",
      " [ 89  89  89]\n",
      " [ 89  89  89]\n",
      " [ 89  89  89]\n",
      " [ 89  89  89]\n",
      " [ 90  90  90]\n",
      " [ 89  89  89]\n",
      " [ 89  89  89]\n",
      " [ 85  85  85]\n",
      " [ 84  84  84]\n",
      " [ 79  79  79]\n",
      " [ 71  71  71]\n",
      " [ 55  55  55]\n",
      " [ 47  47  47]\n",
      " [ 44  44  44]\n",
      " [ 44  44  44]\n",
      " [ 43  43  43]\n",
      " [ 43  43  43]\n",
      " [ 42  42  42]\n",
      " [ 42  42  42]\n",
      " [ 42  42  42]\n",
      " [ 41  41  41]\n",
      " [ 41  41  41]\n",
      " [ 41  41  41]\n",
      " [ 41  41  41]\n",
      " [ 41  41  41]\n",
      " [ 41  41  41]\n",
      " [ 41  41  41]\n",
      " [ 40  40  40]\n",
      " [ 39  39  39]\n",
      " [ 39  39  39]\n",
      " [ 38  38  38]\n",
      " [ 38  38  38]\n",
      " [ 38  38  38]\n",
      " [ 38  38  38]\n",
      " [ 38  38  38]\n",
      " [ 38  38  38]\n",
      " [ 38  38  38]\n",
      " [ 38  38  38]\n",
      " [ 38  38  38]\n",
      " [ 38  38  38]\n",
      " [ 38  38  38]\n",
      " [ 38  38  38]\n",
      " [ 38  38  38]\n",
      " [ 38  38  38]\n",
      " [ 38  38  38]\n",
      " [ 38  38  38]\n",
      " [ 38  38  38]\n",
      " [ 39  39  39]\n",
      " [ 40  40  40]\n",
      " [ 40  40  40]\n",
      " [ 41  41  41]\n",
      " [ 43  43  43]\n",
      " [ 45  45  45]\n",
      " [ 56  56  56]\n",
      " [ 71  71  71]\n",
      " [ 84  84  84]\n",
      " [ 90  90  90]\n",
      " [ 91  91  91]\n",
      " [ 92  92  92]\n",
      " [ 92  92  92]\n",
      " [ 93  93  93]\n",
      " [ 93  93  93]\n",
      " [ 93  93  93]\n",
      " [ 92  92  92]\n",
      " [ 92  92  92]\n",
      " [ 91  91  91]\n",
      " [ 89  89  89]\n",
      " [ 88  88  88]\n",
      " [ 88  88  88]\n",
      " [ 89  89  89]\n",
      " [ 89  89  89]\n",
      " [ 89  89  89]\n",
      " [ 92  92  92]\n",
      " [ 93  93  93]\n",
      " [ 94  94  94]\n",
      " [ 94  94  94]\n",
      " [ 94  94  94]\n",
      " [ 95  95  95]\n",
      " [ 95  95  95]\n",
      " [ 95  95  95]\n",
      " [ 95  95  95]\n",
      " [ 95  95  95]\n",
      " [ 95  95  95]\n",
      " [ 94  94  94]\n",
      " [ 93  93  93]\n",
      " [ 92  92  92]\n",
      " [ 91  91  91]\n",
      " [ 90  90  90]\n",
      " [ 89  89  89]\n",
      " [ 89  89  89]\n",
      " [ 89  89  89]\n",
      " [ 89  89  89]\n",
      " [ 89  89  89]\n",
      " [ 90  90  90]\n",
      " [ 90  90  90]\n",
      " [ 91  91  91]\n",
      " [ 92  92  92]\n",
      " [ 95  95  95]\n",
      " [113 113 113]\n",
      " [122 122 122]\n",
      " [122 122 122]\n",
      " [122 122 122]\n",
      " [121 121 121]\n",
      " [121 121 121]\n",
      " [121 121 121]\n",
      " [121 121 121]\n",
      " [122 122 122]\n",
      " [124 124 124]]\n",
      "[[  0   0   0]\n",
      " [110 110 110]\n",
      " [104 104 104]\n",
      " [ 97  97  97]\n",
      " [ 96  96  96]\n",
      " [ 95  95  95]\n",
      " [ 94  94  94]\n",
      " [ 94  94  94]\n",
      " [ 94  94  94]\n",
      " [ 94  94  94]\n",
      " [ 95  95  95]\n",
      " [ 97  97  97]\n",
      " [ 97  97  97]\n",
      " [ 96  96  96]\n",
      " [ 96  96  96]\n",
      " [ 94  94  94]\n",
      " [ 94  94  94]\n",
      " [ 94  94  94]\n",
      " [ 93  93  93]\n",
      " [ 93  93  93]\n",
      " [ 93  93  93]\n",
      " [ 93  93  93]\n",
      " [ 93  93  93]\n",
      " [ 93  93  93]\n",
      " [ 93  93  93]\n",
      " [ 93  93  93]\n",
      " [ 93  93  93]\n",
      " [ 93  93  93]\n",
      " [ 93  93  93]\n",
      " [ 91  91  91]\n",
      " [ 89  89  89]\n",
      " [ 89  89  89]\n",
      " [ 89  89  89]\n",
      " [ 89  89  89]\n",
      " [ 89  89  89]\n",
      " [ 89  89  89]\n",
      " [ 90  90  90]\n",
      " [ 89  89  89]\n",
      " [ 89  89  89]\n",
      " [ 85  85  85]\n",
      " [  0 255   0]\n",
      " [  0 255   0]\n",
      " [  0   0   0]\n",
      " [  0   0   0]\n",
      " [  0   0   0]\n",
      " [  0   0   0]\n",
      " [  0   0   0]\n",
      " [  0   0   0]\n",
      " [  0   0   0]\n",
      " [  0   0   0]\n",
      " [  0   0   0]\n",
      " [  0   0   0]\n",
      " [  0   0   0]\n",
      " [  0   0   0]\n",
      " [  0   0   0]\n",
      " [  0   0   0]\n",
      " [  0   0   0]\n",
      " [  0   0   0]\n",
      " [  0   0   0]\n",
      " [  0   0   0]\n",
      " [  0   0   0]\n",
      " [  0   0   0]\n",
      " [  0   0   0]\n",
      " [  0   0   0]\n",
      " [  0   0   0]\n",
      " [  0   0   0]\n",
      " [  0   0   0]\n",
      " [  0   0   0]\n",
      " [  0   0   0]\n",
      " [  0   0   0]\n",
      " [  0   0   0]\n",
      " [  0   0   0]\n",
      " [  0   0   0]\n",
      " [  0   0   0]\n",
      " [  0   0   0]\n",
      " [  0   0   0]\n",
      " [  0   0   0]\n",
      " [  0   0   0]\n",
      " [  0   0   0]\n",
      " [  0   0   0]\n",
      " [  0   0   0]\n",
      " [  0   0   0]\n",
      " [  0   0   0]\n",
      " [  0 255   0]\n",
      " [  0 255   0]\n",
      " [ 56  56  56]\n",
      " [ 71  71  71]\n",
      " [ 84  84  84]\n",
      " [ 90  90  90]\n",
      " [ 91  91  91]\n",
      " [ 92  92  92]\n",
      " [ 92  92  92]\n",
      " [ 93  93  93]\n",
      " [ 93  93  93]\n",
      " [ 93  93  93]\n",
      " [ 92  92  92]\n",
      " [ 92  92  92]\n",
      " [ 91  91  91]\n",
      " [ 89  89  89]\n",
      " [ 88  88  88]\n",
      " [ 88  88  88]\n",
      " [ 89  89  89]\n",
      " [ 89  89  89]\n",
      " [ 89  89  89]\n",
      " [ 92  92  92]\n",
      " [ 93  93  93]\n",
      " [ 94  94  94]\n",
      " [ 94  94  94]\n",
      " [ 94  94  94]\n",
      " [ 95  95  95]\n",
      " [ 95  95  95]\n",
      " [ 95  95  95]\n",
      " [ 95  95  95]\n",
      " [ 95  95  95]\n",
      " [ 95  95  95]\n",
      " [ 94  94  94]\n",
      " [ 93  93  93]\n",
      " [ 92  92  92]\n",
      " [ 91  91  91]\n",
      " [ 90  90  90]\n",
      " [ 89  89  89]\n",
      " [ 89  89  89]\n",
      " [ 89  89  89]\n",
      " [ 89  89  89]\n",
      " [ 89  89  89]\n",
      " [ 90  90  90]\n",
      " [ 90  90  90]\n",
      " [ 91  91  91]\n",
      " [ 92  92  92]\n",
      " [ 95  95  95]\n",
      " [113 113 113]\n",
      " [122 122 122]\n",
      " [122 122 122]\n",
      " [122 122 122]\n",
      " [121 121 121]\n",
      " [121 121 121]\n",
      " [121 121 121]\n",
      " [121 121 121]\n",
      " [122 122 122]\n",
      " [124 124 124]]\n"
     ]
    }
   ],
   "source": [
    "# Eye Hough Circles open CV\n",
    "\n",
    "import cv2\n",
    "import numpy as np\n",
    "\n",
    "## Definitions\n",
    "\n",
    "def get_circle(img, minR, maxR, p1, p2):\n",
    "    if len(img.shape)==3:\n",
    "        img = cv2.cvtColor(img, cv2.COLOR_BGR2GRAY)\n",
    "\n",
    "    circles = cv2.HoughCircles(img, cv2.HOUGH_GRADIENT,1,20, param1=p1,param2=p2,minRadius=minR,maxRadius=maxR)\n",
    "    circles = np.uint16(np.around(circles))\n",
    "\n",
    "    #return the first circle\n",
    "    return circles[0][0]\n",
    "\n",
    "def print_img(img,x,y,w,h):\n",
    "    if w!=0 and h!=0:\n",
    "        cv2.imshow('detected circles',img[x:x+w,y:y+h])\n",
    "        cv2.imwrite('app-1/1.jpg',img[x:x+w,y:y+h])\n",
    "    else:\n",
    "        cv2.imshow('detected circles',img)\n",
    "        cv2.imwrite('app-1/1.jpg',img)\n",
    "    cv2.waitKey(0)\n",
    "\n",
    "    cv2.destroyAllWindows()\n",
    "\n",
    "def reject_out(img, xc, yc, r):\n",
    "    row = len(img)\n",
    "    col = len(img[0])\n",
    "\n",
    "    for x in range(0,row):\n",
    "        for y in range(0, col):\n",
    "            res = (x-xc)*(x-xc) + (y-yc)*(y-yc)\n",
    "            if res > r*r :\n",
    "                img[x][y] = 0\n",
    "\n",
    "def reject_in(img, xc, yc, r):\n",
    "    xs = xc-r\n",
    "    ys = yc-r\n",
    "\n",
    "    for x in range(xs,xs+2*r):\n",
    "        for y in range(ys, ys+2*r):\n",
    "            res = (x-xc)*(x-xc) + (y-yc)*(y-yc)\n",
    "            if res < r*r :\n",
    "                img[x][y] = 0\n",
    "\n",
    "def extract_iris(img):\n",
    "    cimg    = cv2.cvtColor(img, cv2.COLOR_GRAY2BGR)\n",
    "    cord    = get_circle(cimg, 35, 0, 50, 40)\n",
    "    # draw the outer circle\n",
    "    cv2.circle(cimg,(cord[0],cord[1]),cord[2],(0,255,0),2)\n",
    "    # draw the center of the circle\n",
    "    cv2.circle(cimg,(cord[0],cord[1]),2,(0,0,255),3)\n",
    "\n",
    "\n",
    "    h = 2*cord[2]\n",
    "    w = 2*cord[2]\n",
    "    x = cord[1]-cord[2]\n",
    "    y = cord[0]-cord[2]\n",
    "    nimg = img[x:x+w,y:y+h]\n",
    "\n",
    "    reject_out(nimg, h/2, w/2, h/2)\n",
    "    print_img(cimg,0,0,0,0)\n",
    "\n",
    "    nimg = cv2.cvtColor(nimg, cv2.COLOR_GRAY2BGR)\n",
    "    cord    = get_circle(nimg, 0, cord[2]-1, 50, 30)\n",
    "    print (nimg[0:w][cord[0]])\n",
    "    # draw the outer circle\n",
    "    cv2.circle(nimg,(cord[0],cord[1]),cord[2],(0,255,0),2)\n",
    "    # draw the center of the circle\n",
    "    cv2.circle(nimg,(cord[0],cord[1]),2,(0,0,255),3)\n",
    "    reject_in(nimg, cord[1], cord[0], cord[2])\n",
    "    print_img(nimg,0,0,0,0)\n",
    "    print (nimg[0:w][cord[0]])\n",
    "\n",
    "\n",
    "\n",
    "img = cv2.imread(r'C:\\Users\\Vicky Kumar\\Pictures\\Saved Pictures\\eye.png', 0)\n",
    "img = cv2.medianBlur(img,5)\n",
    "extract_iris(img)"
   ]
  },
  {
   "cell_type": "markdown",
   "metadata": {},
   "source": [
    "# Extracting text from Image (OCR)"
   ]
  },
  {
   "cell_type": "markdown",
   "metadata": {},
   "source": [
    "To extract text from an image, you can use Google Tesseract-OCR. You can download it from this link\n",
    "\n",
    "## https://digi.bib.uni-mannheim.de/tesseract/tesseract-ocr-setup-3.05.02-20180621.exe"
   ]
  },
  {
   "cell_type": "code",
   "execution_count": 223,
   "metadata": {},
   "outputs": [
    {
     "name": "stdout",
     "output_type": "stream",
     "text": [
      "LikeGeeks.c0m is a website\n",
      "which contains articles about\n",
      "Linux, programming, web\n",
      "development, iOS, Python and\n",
      "other tech tips.\n"
     ]
    }
   ],
   "source": [
    "import pytesseract\n",
    "\n",
    "pytesseract.pytesseract.tesseract_cmd = r'C:\\Program Files (x86)\\Tesseract-OCR\\tesseract.exe'\n",
    "text = pytesseract.image_to_string(r'C:\\Users\\Vicky Kumar\\Pictures\\Saved Pictures\\pytext.png')\n",
    "print(text)"
   ]
  },
  {
   "cell_type": "code",
   "execution_count": 251,
   "metadata": {
    "scrolled": true
   },
   "outputs": [
    {
     "data": {
      "text/plain": [
       "{'af': 'afrikaans',\n",
       " 'sq': 'albanian',\n",
       " 'am': 'amharic',\n",
       " 'ar': 'arabic',\n",
       " 'hy': 'armenian',\n",
       " 'az': 'azerbaijani',\n",
       " 'eu': 'basque',\n",
       " 'be': 'belarusian',\n",
       " 'bn': 'bengali',\n",
       " 'bs': 'bosnian',\n",
       " 'bg': 'bulgarian',\n",
       " 'ca': 'catalan',\n",
       " 'ceb': 'cebuano',\n",
       " 'ny': 'chichewa',\n",
       " 'zh-cn': 'chinese (simplified)',\n",
       " 'zh-tw': 'chinese (traditional)',\n",
       " 'co': 'corsican',\n",
       " 'hr': 'croatian',\n",
       " 'cs': 'czech',\n",
       " 'da': 'danish',\n",
       " 'nl': 'dutch',\n",
       " 'en': 'english',\n",
       " 'eo': 'esperanto',\n",
       " 'et': 'estonian',\n",
       " 'tl': 'filipino',\n",
       " 'fi': 'finnish',\n",
       " 'fr': 'french',\n",
       " 'fy': 'frisian',\n",
       " 'gl': 'galician',\n",
       " 'ka': 'georgian',\n",
       " 'de': 'german',\n",
       " 'el': 'greek',\n",
       " 'gu': 'gujarati',\n",
       " 'ht': 'haitian creole',\n",
       " 'ha': 'hausa',\n",
       " 'haw': 'hawaiian',\n",
       " 'iw': 'hebrew',\n",
       " 'hi': 'hindi',\n",
       " 'hmn': 'hmong',\n",
       " 'hu': 'hungarian',\n",
       " 'is': 'icelandic',\n",
       " 'ig': 'igbo',\n",
       " 'id': 'indonesian',\n",
       " 'ga': 'irish',\n",
       " 'it': 'italian',\n",
       " 'ja': 'japanese',\n",
       " 'jw': 'javanese',\n",
       " 'kn': 'kannada',\n",
       " 'kk': 'kazakh',\n",
       " 'km': 'khmer',\n",
       " 'ko': 'korean',\n",
       " 'ku': 'kurdish (kurmanji)',\n",
       " 'ky': 'kyrgyz',\n",
       " 'lo': 'lao',\n",
       " 'la': 'latin',\n",
       " 'lv': 'latvian',\n",
       " 'lt': 'lithuanian',\n",
       " 'lb': 'luxembourgish',\n",
       " 'mk': 'macedonian',\n",
       " 'mg': 'malagasy',\n",
       " 'ms': 'malay',\n",
       " 'ml': 'malayalam',\n",
       " 'mt': 'maltese',\n",
       " 'mi': 'maori',\n",
       " 'mr': 'marathi',\n",
       " 'mn': 'mongolian',\n",
       " 'my': 'myanmar (burmese)',\n",
       " 'ne': 'nepali',\n",
       " 'no': 'norwegian',\n",
       " 'ps': 'pashto',\n",
       " 'fa': 'persian',\n",
       " 'pl': 'polish',\n",
       " 'pt': 'portuguese',\n",
       " 'pa': 'punjabi',\n",
       " 'ro': 'romanian',\n",
       " 'ru': 'russian',\n",
       " 'sm': 'samoan',\n",
       " 'gd': 'scots gaelic',\n",
       " 'sr': 'serbian',\n",
       " 'st': 'sesotho',\n",
       " 'sn': 'shona',\n",
       " 'sd': 'sindhi',\n",
       " 'si': 'sinhala',\n",
       " 'sk': 'slovak',\n",
       " 'sl': 'slovenian',\n",
       " 'so': 'somali',\n",
       " 'es': 'spanish',\n",
       " 'su': 'sundanese',\n",
       " 'sw': 'swahili',\n",
       " 'sv': 'swedish',\n",
       " 'tg': 'tajik',\n",
       " 'ta': 'tamil',\n",
       " 'te': 'telugu',\n",
       " 'th': 'thai',\n",
       " 'tr': 'turkish',\n",
       " 'uk': 'ukrainian',\n",
       " 'ur': 'urdu',\n",
       " 'uz': 'uzbek',\n",
       " 'vi': 'vietnamese',\n",
       " 'cy': 'welsh',\n",
       " 'xh': 'xhosa',\n",
       " 'yi': 'yiddish',\n",
       " 'yo': 'yoruba',\n",
       " 'zu': 'zulu',\n",
       " 'fil': 'Filipino',\n",
       " 'he': 'Hebrew'}"
      ]
     },
     "execution_count": 251,
     "metadata": {},
     "output_type": "execute_result"
    }
   ],
   "source": [
    "import googletrans\n",
    "\n",
    "type(googletrans.LANGUAGES)\n",
    "googletrans.LANGUAGES"
   ]
  },
  {
   "cell_type": "code",
   "execution_count": 290,
   "metadata": {},
   "outputs": [
    {
     "name": "stdout",
     "output_type": "stream",
     "text": [
      "Someone's mother has four\n",
      "sons. North, South and East.\n",
      "What is the name of the\n",
      "fourth son. Private message\n",
      "me the name of the fourth\n",
      "son. If you lose, you have to\n",
      "repost.\n",
      "\n",
      "I lost to Pragya\n",
      "\n",
      "किसी की मां चार है\n",
      "बेटों। उत्तर, दक्षिण और पूर्वी।\n",
      "का नाम क्या है\n",
      "चौथा बेटा। निजी संदेश\n",
      "मुझे चौथी का नाम\n",
      "बेटा। आप खो देते हैं, आप के लिए है\n",
      "repost।\n",
      "\n",
      "मैं प्रज्ञा के लिए खो दिया\n"
     ]
    }
   ],
   "source": [
    "import pytesseract\n",
    "from PIL import Image\n",
    "import pyttsx3\n",
    "from googletrans import Translator\n",
    "\n",
    "img = r'C:\\Users\\Vicky Kumar\\Pictures\\Saved Pictures\\status.png'\n",
    "pytesseract.pytesseract.tesseract_cmd = r'C:\\Program Files (x86)\\Tesseract-OCR\\tesseract.exe'\n",
    "result = pytesseract.image_to_string(img)\n",
    "\n",
    "p = Translator() \n",
    "k = p.translate(result, dest='hi')\n",
    "\n",
    "print(result)\n",
    "print()\n",
    "# print(k)\n",
    "\n",
    "e = str(k)\n",
    "h = e[33:-49]\n",
    "print(h)\n",
    "\n",
    "with open(r'C:\\Users\\Vicky Kumar\\Desktop\\Experiments\\read and write in file\\pytesseract.txt', mode ='w') as file:\n",
    "    file.write(result)\n",
    "#     file.write(h)\n",
    "\n",
    "engine = pyttsx3.init() \n",
    "engine.say(k)\n",
    "engine.runAndWait() "
   ]
  },
  {
   "cell_type": "code",
   "execution_count": 291,
   "metadata": {},
   "outputs": [
    {
     "name": "stdout",
     "output_type": "stream",
     "text": [
      "C:\\Users\\Vicky Kumar\\Pictures\\Saved Pictures\\status.png\n"
     ]
    },
    {
     "data": {
      "text/plain": [
       "('C:\\\\Users\\\\Vicky Kumar\\\\Pictures\\\\Saved Pictures\\\\status.png', None)"
      ]
     },
     "execution_count": 291,
     "metadata": {},
     "output_type": "execute_result"
    }
   ],
   "source": [
    "img, print(img)"
   ]
  },
  {
   "cell_type": "code",
   "execution_count": 293,
   "metadata": {
    "scrolled": true
   },
   "outputs": [
    {
     "name": "stdout",
     "output_type": "stream",
     "text": [
      "\n",
      "1 10-Median-Blur.png\n",
      "2 Annotation 2020-03-14 101055.png\n",
      "3 Annotation 2020-03-20 125751.png\n",
      "4 Annotation 2020-03-20 181619.png\n",
      "5 Annotation 2020-03-25 085757.png\n",
      "6 Annotation 2020-03-26 193934.png\n",
      "7 arya.png\n",
      "8 car.png\n",
      "9 desktop.ini\n",
      "10 eye.png\n",
      "11 f59f4d4e-aaf0-484d-addf-38181b67d1b7.jpg\n",
      "12 fish.jpg\n",
      "13 Helicopter.png\n",
      "14 linkedin profile search.png\n",
      "15 meme.jpg.png\n",
      "16 mod.png\n",
      "17 py.jpg\n",
      "18 pytext.png\n",
      "19 status.png\n",
      "20 stuti boss liked file viewer.png\n",
      "21 thali bajana.jpg\n",
      "22 virus message.jpg\n",
      "\n",
      "Which Image index : 19\n",
      "\n",
      "CURRENT Image... status.png\n",
      "Text in Image...\n",
      "\n",
      "Someone's mother has four\n",
      "sons. North, South and East.\n",
      "What is the name of the\n",
      "fourth son. Private message\n",
      "me the name of the fourth\n",
      "son. If you lose, you have to\n",
      "repost.\n",
      "\n",
      "I lost to Pragya\n",
      "\n",
      "Translated Text in Image...\n",
      "\n",
      "किसी की मां चार है\n",
      "बेटों। उत्तर, दक्षिण और पूर्वी।\n",
      "का नाम क्या है\n",
      "चौथा बेटा। निजी संदेश\n",
      "मुझे चौथी का नाम\n",
      "बेटा। आप खो देते हैं, आप के लिए है\n",
      "repost।\n",
      "\n",
      "मैं प्रज्ञा के लिए खो दिया\n",
      "See another? (1/0) : 0\n",
      "\n",
      "Look @ it...\n"
     ]
    }
   ],
   "source": [
    "import os\n",
    "import pytesseract\n",
    "from PIL import Image\n",
    "import pyttsx3\n",
    "from googletrans import Translator\n",
    "\n",
    "p = Translator()\n",
    "engine = pyttsx3.init()\n",
    "pytesseract.pytesseract.tesseract_cmd = r'C:\\Program Files (x86)\\Tesseract-OCR\\tesseract.exe'\n",
    "\n",
    "path = os.path.join('C:\\\\Users', os.getlogin(), 'Pictures', 'Saved Pictures')\n",
    "if not os.path.exists(path):\n",
    "    os.mkdir(path)\n",
    "\n",
    "directory = os.listdir(path)\n",
    "sno = 1\n",
    "print()\n",
    "for image in directory:\n",
    "    print(sno, image)\n",
    "    sno += 1\n",
    "    \n",
    "os.startfile(path)\n",
    "more = '1'\n",
    "while more is not '0':\n",
    "    \n",
    "    index = int(input('\\nWhich Image index : ')) - 1\n",
    "    file = os.path.join(path, directory[index])\n",
    "    print('\\nCURRENT Image... ' + directory[index])\n",
    "    text = pytesseract.image_to_string(file)\n",
    "    print('Text in Image...\\n\\n' + text)\n",
    "    os.startfile(file)\n",
    "    \n",
    "    k = p.translate(text, dest='hi')\n",
    "    print()\n",
    "    e = str(k)\n",
    "    trans = e[33:-49]\n",
    "    print('Translated Text in Image...\\n\\n' + trans)\n",
    "    \n",
    "    engine.say(trans)\n",
    "    engine.runAndWait()\n",
    "\n",
    "    more = input('See another? (1/0) : ')\n",
    "else:\n",
    "    print('\\nLook @ it...')"
   ]
  },
  {
   "cell_type": "markdown",
   "metadata": {},
   "source": [
    "# Detect and correct text skew"
   ]
  },
  {
   "cell_type": "code",
   "execution_count": 230,
   "metadata": {},
   "outputs": [],
   "source": [
    "# https://likegeeks.com/python-image-processing/"
   ]
  },
  {
   "cell_type": "code",
   "execution_count": null,
   "metadata": {},
   "outputs": [],
   "source": []
  }
 ],
 "metadata": {
  "kernelspec": {
   "display_name": "Python 3",
   "language": "python",
   "name": "python3"
  },
  "language_info": {
   "codemirror_mode": {
    "name": "ipython",
    "version": 3
   },
   "file_extension": ".py",
   "mimetype": "text/x-python",
   "name": "python",
   "nbconvert_exporter": "python",
   "pygments_lexer": "ipython3",
   "version": "3.7.4"
  }
 },
 "nbformat": 4,
 "nbformat_minor": 2
}
