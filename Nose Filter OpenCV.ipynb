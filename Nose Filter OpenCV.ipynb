{
 "cells": [
  {
   "cell_type": "markdown",
   "metadata": {},
   "source": [
    "## I want to thank this website, which helped me to learn more about 'dlib' library...\n",
    "\n",
    "# https://pysource.com/2019/03/25/pigs-nose-instagram-face-filter-opencv-with-python/\n",
    "\n",
    "### DLib: Library for Machine Learning.\n",
    "\n",
    "### Q). What is DLIB used for?\n",
    "\n",
    "### Ans). Dlib is a modern C++ toolkit containing machine learning algorithms and tools for creating complex software in C++ to solve real world problems. It is used in both industry and academia in a wide range of domains including robotics, embedded devices, mobile phones, and large high performance computing environments"
   ]
  },
  {
   "cell_type": "markdown",
   "metadata": {},
   "source": [
    "# Image_Processing.ipynb\n",
    "# https://github.com/imvickykumar999/calender/blob/master/Image%20Processing.ipynb"
   ]
  },
  {
   "cell_type": "code",
   "execution_count": 186,
   "metadata": {},
   "outputs": [],
   "source": [
    "import cv2, os\n",
    "import numpy as np\n",
    "import dlib\n",
    "from math import hypot\n",
    "\n",
    "# Loading Camera and Nose image and Creating mask\n",
    "cap = cv2.VideoCapture(0)\n",
    "\n",
    "nose_image = cv2.imread(r'C:\\Users\\Vicky Kumar\\Pictures\\Saved Pictures\\petnose.jpg')\n",
    "_, frame = cap.read()\n",
    "\n",
    "rows, cols, _ = frame.shape\n",
    "nose_mask = np.zeros((rows, cols), np.uint8)\n",
    "\n",
    "# Loading Face detector\n",
    "detector = dlib.get_frontal_face_detector()\n",
    "predictor = dlib.shape_predictor(r\"C:\\Users\\Vicky Kumar\\Downloads\\shape_predictor_68_face_landmarks.dat\")\n",
    "\n",
    "while(cv2.waitKey(30) != ord('q')):\n",
    "    _, frame = cap.read()\n",
    "    nose_mask.fill(0)\n",
    "    gray_frame = cv2.cvtColor(frame, cv2.COLOR_BGR2GRAY)\n",
    "    faces = detector(frame)\n",
    "    for face in faces:\n",
    "        landmarks = predictor(gray_frame, face)\n",
    "        \n",
    "        # Nose coordinates\n",
    "        top_nose = (landmarks.part(29).x, landmarks.part(29).y)\n",
    "        center_nose = (landmarks.part(30).x, landmarks.part(30).y)\n",
    "        left_nose = (landmarks.part(31).x, landmarks.part(31).y)\n",
    "        right_nose = (landmarks.part(35).x, landmarks.part(35).y)\n",
    "        nose_width = int(hypot(left_nose[0] - right_nose[0],\n",
    "                           left_nose[1] - right_nose[1]) * 1.7)\n",
    "        nose_height = int(nose_width * 0.77)\n",
    "        \n",
    "        # New nose position\n",
    "        top_left = (int(center_nose[0] - nose_width / 2),\n",
    "                              int(center_nose[1] - nose_height / 2))\n",
    "        bottom_right = (int(center_nose[0] + nose_width / 2),\n",
    "                       int(center_nose[1] + nose_height / 2))\n",
    "\n",
    "        # Adding the new nose\n",
    "        nose_pig = cv2.resize(nose_image, (nose_width, nose_height))\n",
    "        nose_pig_gray = cv2.cvtColor(nose_pig, cv2.COLOR_BGR2GRAY)\n",
    "        _, nose_mask = cv2.threshold(nose_pig_gray, 25, 255, cv2.THRESH_BINARY_INV)\n",
    "        nose_area = frame[top_left[1]: top_left[1] + nose_height,\n",
    "                    top_left[0]: top_left[0] + nose_width]\n",
    "        nose_area_no_nose = cv2.bitwise_and(nose_area, nose_area, mask=nose_mask)\n",
    "        final_nose = cv2.add(nose_area_no_nose, nose_pig)\n",
    "        frame[top_left[1]: top_left[1] + nose_height,\n",
    "                    top_left[0]: top_left[0] + nose_width] = final_nose\n",
    "        \n",
    "#         cv2.imshow(\"Nose area\", nose_area)\n",
    "#         cv2.imshow(\"Nose pig\", nose_pig)\n",
    "#         cv2.imshow(\"final nose\", final_nose)\n",
    "    cv2.imshow(\"Frame\", frame)\n",
    "    \n",
    "cap.release()\n",
    "cv2.destroyAllWindows()\n",
    "\n",
    "os.startfile(r'C:\\Users\\Vicky Kumar\\Videos\\Captures\\filter.mp4') # post this video and Shape predictor 68 face landmarks photo..."
   ]
  },
  {
   "cell_type": "code",
   "execution_count": 197,
   "metadata": {},
   "outputs": [
    {
     "name": "stdout",
     "output_type": "stream",
     "text": [
      "{113: 4, 65: 6.89, 97: 'y', -1: 'aim'}\t\t\t\t..... <class 'dict'>\n",
      "\n",
      "dict_keys([113, 65, 97, -1])\t\t\t\t\t..... <class 'dict_keys'>\n",
      "\n",
      "dict_values([4, 6.89, 'y', 'aim']) \t\t\t\t..... <class 'dict_keys'>\n",
      "\n",
      "dict_items([(113, 4), (65, 6.89), (97, 'y'), (-1, 'aim')]) \t..... <class 'dict_items'>\n"
     ]
    },
    {
     "data": {
      "text/plain": [
       "((65, int), tuple)"
      ]
     },
     "execution_count": 197,
     "metadata": {},
     "output_type": "execute_result"
    }
   ],
   "source": [
    "x = (ord('q'), ord('A'), ord('a'), cv2.waitKey(30))\n",
    "y = [4, 6.89, 'y', 'aim']\n",
    "\n",
    "d  = dict(zip(x, y))\n",
    "\n",
    "print('{}\\t\\t\\t\\t..... {}\\n\\n{}\\t\\t\\t\\t\\t..... {}\\n\\n{} \\t\\t\\t\\t..... {}\\n\\n{} \\t..... {}'\n",
    "      .format(d, type(d), d.keys(), type(d.keys()), d.values(), type(d.keys()), d.items(), type(d.items())))\n",
    "\n",
    "ord_ =  ord('A'), type(ord('A'))\n",
    "ord_, type(ord_)"
   ]
  },
  {
   "cell_type": "code",
   "execution_count": 198,
   "metadata": {},
   "outputs": [
    {
     "data": {
      "text/plain": [
       "(-1, 113, True)"
      ]
     },
     "execution_count": 198,
     "metadata": {},
     "output_type": "execute_result"
    }
   ],
   "source": [
    "cv2.waitKey(30), ord('q'), cv2.waitKey(30) != ord('q')"
   ]
  },
  {
   "cell_type": "markdown",
   "metadata": {},
   "source": [
    "## >>> Learning Line by line..."
   ]
  },
  {
   "cell_type": "code",
   "execution_count": 2,
   "metadata": {},
   "outputs": [
    {
     "data": {
      "text/plain": [
       "'C://Users//Vicky Kumar//AppData//Roaming//Python//Python37//site-packages//cv2//cv2.cp37-win_amd64.py'"
      ]
     },
     "execution_count": 2,
     "metadata": {},
     "output_type": "execute_result"
    }
   ],
   "source": [
    "import cv2\n",
    "\n",
    "# ============================================================================\n",
    "\n",
    "lst = str(cv2).split(\"'\")[-2].split('\\\\')\n",
    "location = ''\n",
    "\n",
    "for i in range(len(lst)):\n",
    "    location = location + lst[i] + '/'\n",
    "    \n",
    "location.split('.py')[0] + '.py'\n",
    "\n",
    "# with open(location.split('.py')[0] + '.py', 'r') as f:\n",
    "#     print(f.read())"
   ]
  },
  {
   "cell_type": "code",
   "execution_count": 3,
   "metadata": {},
   "outputs": [
    {
     "name": "stdout",
     "output_type": "stream",
     "text": [
      "\"\"\"\n",
      "NumPy\n",
      "=====\n",
      "\n",
      "Provides\n",
      "  1. An array object of arbitrary homogeneous items\n",
      "  2. Fast mathematical operations over arrays\n",
      "  3. Linear Algebra, Fourier Transforms, Random Number Generation\n",
      "\n",
      "How to use the documentation\n",
      "----------------------------\n",
      "Documentation is available in two forms: docstrings provided\n",
      "with the code, and a loose standing reference guide, available from\n",
      "`the NumPy homepage <https://www.scipy.org>`_.\n",
      "\n",
      "We recommend exploring the docstrings using\n",
      "`IPython <https://ipython.org>`_, an advanced Python shell with\n",
      "TAB-completion and introspection capabilities.  See below for further\n",
      "instructions.\n",
      "\n",
      "The docstring examples assume that `numpy` has been imported as `np`::\n",
      "\n",
      "  >>> import numpy as np\n",
      "\n",
      "Code snippets are indicated by three greater-than signs::\n",
      "\n",
      "  >>> x = 42\n",
      "  >>> x = x + 1\n",
      "\n",
      "Use the built-in ``help`` function to view a function's docstring::\n",
      "\n",
      "  >>> help(np.sort)\n",
      "  ... # doctest: +SKIP\n",
      "\n",
      "For some objects, ``np.info(obj)`` may provide additional help.  This is\n",
      "particularly true if you see the line \"Help on ufunc object:\" at the top\n",
      "of the help() page.  Ufuncs are implemented in C, not Python, for speed.\n",
      "The native Python help() does not know how to view their help, but our\n",
      "np.info() function does.\n",
      "\n",
      "To search for documents containing a keyword, do::\n",
      "\n",
      "  >>> np.lookfor('keyword')\n",
      "  ... # doctest: +SKIP\n",
      "\n",
      "General-purpose documents like a glossary and help on the basic concepts\n",
      "of numpy are available under the ``doc`` sub-module::\n",
      "\n",
      "  >>> from numpy import doc\n",
      "  >>> help(doc)\n",
      "  ... # doctest: +SKIP\n",
      "\n",
      "Available subpackages\n",
      "---------------------\n",
      "doc\n",
      "    Topical documentation on broadcasting, indexing, etc.\n",
      "lib\n",
      "    Basic functions used by several sub-packages.\n",
      "random\n",
      "    Core Random Tools\n",
      "linalg\n",
      "    Core Linear Algebra Tools\n",
      "fft\n",
      "    Core FFT routines\n",
      "polynomial\n",
      "    Polynomial tools\n",
      "testing\n",
      "    NumPy testing tools\n",
      "f2py\n",
      "    Fortran to Python Interface Generator.\n",
      "distutils\n",
      "    Enhancements to distutils with support for\n",
      "    Fortran compilers support and more.\n",
      "\n",
      "Utilities\n",
      "---------\n",
      "test\n",
      "    Run numpy unittests\n",
      "show_config\n",
      "    Show numpy build configuration\n",
      "dual\n",
      "    Overwrite certain functions with high-performance Scipy tools\n",
      "matlib\n",
      "    Make everything matrices.\n",
      "__version__\n",
      "    NumPy version string\n",
      "\n",
      "Viewing documentation using IPython\n",
      "-----------------------------------\n",
      "Start IPython with the NumPy profile (``ipython -p numpy``), which will\n",
      "import `numpy` under the alias `np`.  Then, use the ``cpaste`` command to\n",
      "paste examples into the shell.  To see which functions are available in\n",
      "`numpy`, type ``np.<TAB>`` (where ``<TAB>`` refers to the TAB key), or use\n",
      "``np.*cos*?<ENTER>`` (where ``<ENTER>`` refers to the ENTER key) to narrow\n",
      "down the list.  To view the docstring for a function, use\n",
      "``np.cos?<ENTER>`` (to view the docstring) and ``np.cos??<ENTER>`` (to view\n",
      "the source code).\n",
      "\n",
      "Copies vs. in-place operation\n",
      "-----------------------------\n",
      "Most of the functions in `numpy` return a copy of the array argument\n",
      "(e.g., `np.sort`).  In-place versions of these functions are often\n",
      "available as array methods, i.e. ``x = np.array([1,2,3]); x.sort()``.\n",
      "Exceptions to this rule are documented.\n",
      "\n",
      "\"\"\"\n",
      "from __future__ import division, absolute_import, print_function\n",
      "\n",
      "import sys\n",
      "import warnings\n",
      "\n",
      "from ._globals import ModuleDeprecationWarning, VisibleDeprecationWarning\n",
      "from ._globals import _NoValue\n",
      "\n",
      "# We first need to detect if we're being called as part of the numpy setup\n",
      "# procedure itself in a reliable manner.\n",
      "try:\n",
      "    __NUMPY_SETUP__\n",
      "except NameError:\n",
      "    __NUMPY_SETUP__ = False\n",
      "\n",
      "if __NUMPY_SETUP__:\n",
      "    sys.stderr.write('Running from numpy source directory.\\n')\n",
      "else:\n",
      "    try:\n",
      "        from numpy.__config__ import show as show_config\n",
      "    except ImportError:\n",
      "        msg = \"\"\"Error importing numpy: you should not try to import numpy from\n",
      "        its source directory; please exit the numpy source tree, and relaunch\n",
      "        your python interpreter from there.\"\"\"\n",
      "        raise ImportError(msg)\n",
      "\n",
      "    from .version import git_revision as __git_revision__\n",
      "    from .version import version as __version__\n",
      "\n",
      "    __all__ = ['ModuleDeprecationWarning',\n",
      "               'VisibleDeprecationWarning']\n",
      "\n",
      "    # Allow distributors to run custom init code\n",
      "    from . import _distributor_init\n",
      "\n",
      "    from . import core\n",
      "    from .core import *\n",
      "    from . import compat\n",
      "    from . import lib\n",
      "    # FIXME: why have numpy.lib if everything is imported here??\n",
      "    from .lib import *\n",
      "\n",
      "    from . import linalg\n",
      "    from . import fft\n",
      "    from . import polynomial\n",
      "    from . import random\n",
      "    from . import ctypeslib\n",
      "    from . import ma\n",
      "    from . import matrixlib as _mat\n",
      "    from .matrixlib import *\n",
      "    from .compat import long\n",
      "\n",
      "    # Make these accessible from numpy name-space\n",
      "    # but not imported in from numpy import *\n",
      "    # TODO[gh-6103]: Deprecate these\n",
      "    if sys.version_info[0] >= 3:\n",
      "        from builtins import bool, int, float, complex, object, str\n",
      "        unicode = str\n",
      "    else:\n",
      "        from __builtin__ import bool, int, float, complex, object, unicode, str\n",
      "\n",
      "    from .core import round, abs, max, min\n",
      "    # now that numpy modules are imported, can initialize limits\n",
      "    core.getlimits._register_known_types()\n",
      "\n",
      "    __all__.extend(['__version__', 'show_config'])\n",
      "    __all__.extend(core.__all__)\n",
      "    __all__.extend(_mat.__all__)\n",
      "    __all__.extend(lib.__all__)\n",
      "    __all__.extend(['linalg', 'fft', 'random', 'ctypeslib', 'ma'])\n",
      "\n",
      "    # These are added by `from .core import *` and `core.__all__`, but we\n",
      "    # overwrite them above with builtins we do _not_ want to export.\n",
      "    __all__.remove('long')\n",
      "    __all__.remove('unicode')\n",
      "\n",
      "    # Remove things that are in the numpy.lib but not in the numpy namespace\n",
      "    # Note that there is a test (numpy/tests/test_public_api.py:test_numpy_namespace)\n",
      "    # that prevents adding more things to the main namespace by accident.\n",
      "    # The list below will grow until the `from .lib import *` fixme above is\n",
      "    # taken care of\n",
      "    __all__.remove('Arrayterator')\n",
      "    del Arrayterator\n",
      "\n",
      "    # Filter out Cython harmless warnings\n",
      "    warnings.filterwarnings(\"ignore\", message=\"numpy.dtype size changed\")\n",
      "    warnings.filterwarnings(\"ignore\", message=\"numpy.ufunc size changed\")\n",
      "    warnings.filterwarnings(\"ignore\", message=\"numpy.ndarray size changed\")\n",
      "\n",
      "    # oldnumeric and numarray were removed in 1.9. In case some packages import\n",
      "    # but do not use them, we define them here for backward compatibility.\n",
      "    oldnumeric = 'removed'\n",
      "    numarray = 'removed'\n",
      "\n",
      "    if sys.version_info[:2] >= (3, 7):\n",
      "        # Importing Tester requires importing all of UnitTest which is not a\n",
      "        # cheap import Since it is mainly used in test suits, we lazy import it\n",
      "        # here to save on the order of 10 ms of import time for most users\n",
      "        #\n",
      "        # The previous way Tester was imported also had a side effect of adding\n",
      "        # the full `numpy.testing` namespace\n",
      "        #\n",
      "        # module level getattr is only supported in 3.7 onwards\n",
      "        # https://www.python.org/dev/peps/pep-0562/\n",
      "        def __getattr__(attr):\n",
      "            if attr == 'testing':\n",
      "                import numpy.testing as testing\n",
      "                return testing\n",
      "            elif attr == 'Tester':\n",
      "                from .testing import Tester\n",
      "                return Tester\n",
      "            else:\n",
      "                raise AttributeError(\"module {!r} has no attribute \"\n",
      "                                     \"{!r}\".format(__name__, attr))\n",
      "\n",
      "        def __dir__():\n",
      "            return list(globals().keys()) + ['Tester', 'testing']\n",
      "\n",
      "    else:\n",
      "        # We don't actually use this ourselves anymore, but I'm not 100% sure that\n",
      "        # no-one else in the world is using it (though I hope not)\n",
      "        from .testing import Tester\n",
      "\n",
      "    # Pytest testing\n",
      "    from numpy._pytesttester import PytestTester\n",
      "    test = PytestTester(__name__)\n",
      "    del PytestTester\n",
      "\n",
      "\n",
      "    def _sanity_check():\n",
      "        \"\"\"\n",
      "        Quick sanity checks for common bugs caused by environment.\n",
      "        There are some cases e.g. with wrong BLAS ABI that cause wrong\n",
      "        results under specific runtime conditions that are not necessarily\n",
      "        achieved during test suite runs, and it is useful to catch those early.\n",
      "\n",
      "        See https://github.com/numpy/numpy/issues/8577 and other\n",
      "        similar bug reports.\n",
      "\n",
      "        \"\"\"\n",
      "        try:\n",
      "            x = ones(2, dtype=float32)\n",
      "            if not abs(x.dot(x) - 2.0) < 1e-5:\n",
      "                raise AssertionError()\n",
      "        except AssertionError:\n",
      "            msg = (\"The current Numpy installation ({!r}) fails to \"\n",
      "                   \"pass simple sanity checks. This can be caused for example \"\n",
      "                   \"by incorrect BLAS library being linked in, or by mixing \"\n",
      "                   \"package managers (pip, conda, apt, ...). Search closed \"\n",
      "                   \"numpy issues for similar problems.\")\n",
      "            raise RuntimeError(msg.format(__file__))\n",
      "\n",
      "    _sanity_check()\n",
      "    del _sanity_check\n",
      "\n"
     ]
    }
   ],
   "source": [
    "import numpy as np\n",
    "\n",
    "# ======================================================================\n",
    "\n",
    "lst = str(np).split(\"'\")[-2].split('\\\\')\n",
    "location = ''\n",
    "\n",
    "for i in range(len(lst)):\n",
    "    location = location + lst[i] + '/'\n",
    "    \n",
    "with open(location.split('.py')[0] + '.py', 'r') as f:\n",
    "    print(f.read())"
   ]
  },
  {
   "cell_type": "code",
   "execution_count": 265,
   "metadata": {},
   "outputs": [
    {
     "data": {
      "text/plain": [
       "'C://Users//Vicky Kumar//Anaconda3//lib//site-packages//dlib.cp37-win_amd64.py'"
      ]
     },
     "execution_count": 265,
     "metadata": {},
     "output_type": "execute_result"
    }
   ],
   "source": [
    "import dlib\n",
    "\n",
    "# ======================================================================\n",
    "\n",
    "lst = str(dlib).split(\"'\")[-2].split('\\\\')\n",
    "location = ''\n",
    "\n",
    "for i in range(len(lst)):\n",
    "    location = location + lst[i] + '/'\n",
    "    \n",
    "location.split('.py')[0] + '.py'\n",
    "\n",
    "# with open(location.split('.py')[0] + '.py', 'r') as f:\n",
    "#     print(f.read())"
   ]
  },
  {
   "cell_type": "code",
   "execution_count": 266,
   "metadata": {},
   "outputs": [
    {
     "data": {
      "text/plain": [
       "'math/.py'"
      ]
     },
     "execution_count": 266,
     "metadata": {},
     "output_type": "execute_result"
    }
   ],
   "source": [
    "from math import hypot\n",
    "import math\n",
    "# ======================================================================\n",
    "\n",
    "lst = str(math).split(\"'\")[-2].split('\\\\')\n",
    "location = ''\n",
    "\n",
    "for i in range(len(lst)):\n",
    "    location = location + lst[i] + '/'\n",
    "    \n",
    "location.split('.py')[0] + '.py'\n",
    "\n",
    "# with open(location.split('.py')[0] + '.py', 'r') as f:\n",
    "#     print(f.read())"
   ]
  },
  {
   "cell_type": "code",
   "execution_count": 267,
   "metadata": {},
   "outputs": [
    {
     "data": {
      "text/plain": [
       "<VideoCapture 00000200AF0913B0>"
      ]
     },
     "execution_count": 267,
     "metadata": {},
     "output_type": "execute_result"
    }
   ],
   "source": [
    "# Loading Camera and Nose image and Creating mask\n",
    "cap = cv2.VideoCapture(0)\n",
    "cap"
   ]
  },
  {
   "cell_type": "code",
   "execution_count": 268,
   "metadata": {
    "scrolled": true
   },
   "outputs": [
    {
     "data": {
      "text/plain": [
       "array([[[0, 0, 0],\n",
       "        [0, 0, 0],\n",
       "        [0, 0, 0],\n",
       "        ...,\n",
       "        [0, 0, 0],\n",
       "        [0, 0, 0],\n",
       "        [0, 0, 0]],\n",
       "\n",
       "       [[0, 0, 0],\n",
       "        [0, 0, 0],\n",
       "        [0, 0, 0],\n",
       "        ...,\n",
       "        [0, 0, 0],\n",
       "        [0, 0, 0],\n",
       "        [0, 0, 0]],\n",
       "\n",
       "       [[0, 0, 0],\n",
       "        [0, 0, 0],\n",
       "        [0, 0, 0],\n",
       "        ...,\n",
       "        [0, 0, 0],\n",
       "        [0, 0, 0],\n",
       "        [0, 0, 0]],\n",
       "\n",
       "       ...,\n",
       "\n",
       "       [[0, 0, 0],\n",
       "        [0, 0, 0],\n",
       "        [0, 0, 0],\n",
       "        ...,\n",
       "        [0, 0, 0],\n",
       "        [0, 0, 0],\n",
       "        [0, 0, 0]],\n",
       "\n",
       "       [[0, 0, 0],\n",
       "        [0, 0, 0],\n",
       "        [0, 0, 0],\n",
       "        ...,\n",
       "        [0, 0, 0],\n",
       "        [0, 0, 0],\n",
       "        [0, 0, 0]],\n",
       "\n",
       "       [[0, 0, 0],\n",
       "        [0, 0, 0],\n",
       "        [0, 0, 0],\n",
       "        ...,\n",
       "        [0, 0, 0],\n",
       "        [0, 0, 0],\n",
       "        [0, 0, 0]]], dtype=uint8)"
      ]
     },
     "execution_count": 268,
     "metadata": {},
     "output_type": "execute_result"
    }
   ],
   "source": [
    "nose_image = cv2.imread(r'C:\\Users\\Vicky Kumar\\Pictures\\Saved Pictures\\petnose.jpg')\n",
    "nose_image"
   ]
  },
  {
   "cell_type": "code",
   "execution_count": 338,
   "metadata": {},
   "outputs": [
    {
     "data": {
      "text/plain": [
       "-1"
      ]
     },
     "execution_count": 338,
     "metadata": {},
     "output_type": "execute_result"
    }
   ],
   "source": [
    "cv2.imshow(\"nose_image\", nose_image)\n",
    "cv2.waitKey(0)"
   ]
  },
  {
   "cell_type": "code",
   "execution_count": 270,
   "metadata": {
    "scrolled": true
   },
   "outputs": [
    {
     "data": {
      "text/plain": [
       "(True,\n",
       " array([[[0, 0, 0],\n",
       "         [0, 0, 0],\n",
       "         [0, 0, 0],\n",
       "         ...,\n",
       "         [0, 0, 0],\n",
       "         [0, 0, 0],\n",
       "         [0, 0, 0]],\n",
       " \n",
       "        [[0, 0, 0],\n",
       "         [0, 0, 0],\n",
       "         [0, 0, 0],\n",
       "         ...,\n",
       "         [0, 0, 0],\n",
       "         [0, 0, 0],\n",
       "         [0, 0, 0]],\n",
       " \n",
       "        [[0, 0, 0],\n",
       "         [0, 0, 0],\n",
       "         [0, 0, 0],\n",
       "         ...,\n",
       "         [0, 0, 0],\n",
       "         [0, 0, 0],\n",
       "         [0, 0, 0]],\n",
       " \n",
       "        ...,\n",
       " \n",
       "        [[0, 0, 0],\n",
       "         [0, 0, 0],\n",
       "         [0, 0, 0],\n",
       "         ...,\n",
       "         [0, 0, 0],\n",
       "         [0, 0, 0],\n",
       "         [0, 0, 0]],\n",
       " \n",
       "        [[0, 0, 0],\n",
       "         [0, 0, 0],\n",
       "         [0, 0, 0],\n",
       "         ...,\n",
       "         [0, 0, 0],\n",
       "         [0, 0, 0],\n",
       "         [0, 0, 0]],\n",
       " \n",
       "        [[0, 0, 0],\n",
       "         [0, 0, 0],\n",
       "         [0, 0, 0],\n",
       "         ...,\n",
       "         [0, 0, 0],\n",
       "         [0, 0, 0],\n",
       "         [0, 0, 0]]], dtype=uint8))"
      ]
     },
     "execution_count": 270,
     "metadata": {},
     "output_type": "execute_result"
    }
   ],
   "source": [
    "_, frame = cap.read()\n",
    "_, frame"
   ]
  },
  {
   "cell_type": "code",
   "execution_count": 271,
   "metadata": {},
   "outputs": [
    {
     "data": {
      "text/plain": [
       "(480, 640, 3)"
      ]
     },
     "execution_count": 271,
     "metadata": {},
     "output_type": "execute_result"
    }
   ],
   "source": [
    "rows, cols, _ = frame.shape\n",
    "rows, cols, _"
   ]
  },
  {
   "cell_type": "code",
   "execution_count": 255,
   "metadata": {},
   "outputs": [
    {
     "data": {
      "text/plain": [
       "array([[0, 0, 0, ..., 0, 0, 0],\n",
       "       [0, 0, 0, ..., 0, 0, 0],\n",
       "       [0, 0, 0, ..., 0, 0, 0],\n",
       "       ...,\n",
       "       [0, 0, 0, ..., 0, 0, 0],\n",
       "       [0, 0, 0, ..., 0, 0, 0],\n",
       "       [0, 0, 0, ..., 0, 0, 0]], dtype=uint8)"
      ]
     },
     "execution_count": 255,
     "metadata": {},
     "output_type": "execute_result"
    }
   ],
   "source": [
    "nose_mask = np.zeros((rows, cols), np.uint8)\n",
    "nose_mask"
   ]
  },
  {
   "cell_type": "code",
   "execution_count": 272,
   "metadata": {},
   "outputs": [
    {
     "name": "stdout",
     "output_type": "stream",
     "text": [
      "Matrix b : \n",
      " [0 0]\n",
      "\n",
      "Matrix a : \n",
      " [[0 0]\n",
      " [0 0]]\n",
      "\n",
      "Matrix c : \n",
      " [[0. 0. 0.]\n",
      " [0. 0. 0.]\n",
      " [0. 0. 0.]]\n"
     ]
    }
   ],
   "source": [
    "# Python Program illustrating \n",
    "\n",
    "# ...........numpy.zeros.............. method \n",
    "\n",
    "import numpy as geek \n",
    "\n",
    "b = geek.zeros(2, dtype = int) \n",
    "print(\"Matrix b : \\n\", b) \n",
    "\n",
    "a = geek.zeros((2, 2), dtype = int) \n",
    "print(\"\\nMatrix a : \\n\", a) \n",
    "\n",
    "c = geek.zeros([3, 3]) # dtype = float (by default)\n",
    "print(\"\\nMatrix c : \\n\", c) \n"
   ]
  },
  {
   "cell_type": "code",
   "execution_count": 273,
   "metadata": {},
   "outputs": [
    {
     "data": {
      "text/plain": [
       "(<dlib.fhog_object_detector at 0x200af082ab0>, int)"
      ]
     },
     "execution_count": 273,
     "metadata": {},
     "output_type": "execute_result"
    }
   ],
   "source": [
    "# Loading Face detector\n",
    "detector = dlib.get_frontal_face_detector()\n",
    "detector, type(0x226fb1326f0)"
   ]
  },
  {
   "cell_type": "code",
   "execution_count": 274,
   "metadata": {},
   "outputs": [
    {
     "data": {
      "text/plain": [
       "(<dlib.shape_predictor at 0x200af082370>, 2366444348400)"
      ]
     },
     "execution_count": 274,
     "metadata": {},
     "output_type": "execute_result"
    }
   ],
   "source": [
    "predictor = dlib.shape_predictor(r\"C:\\Users\\Vicky Kumar\\Downloads\\shape_predictor_68_face_landmarks.dat\")\n",
    "predictor, 0x226fb1323f0"
   ]
  },
  {
   "cell_type": "code",
   "execution_count": 275,
   "metadata": {},
   "outputs": [
    {
     "data": {
      "text/plain": [
       "True"
      ]
     },
     "execution_count": 275,
     "metadata": {},
     "output_type": "execute_result"
    }
   ],
   "source": [
    "# while(cv2.waitKey(30) != ord('q')):\n",
    "cv2.waitKey(30) != ord('q')"
   ]
  },
  {
   "cell_type": "code",
   "execution_count": 276,
   "metadata": {
    "scrolled": true
   },
   "outputs": [
    {
     "data": {
      "text/plain": [
       "(True,\n",
       " array([[[0, 0, 0],\n",
       "         [0, 0, 0],\n",
       "         [0, 0, 0],\n",
       "         ...,\n",
       "         [0, 0, 0],\n",
       "         [0, 0, 0],\n",
       "         [0, 0, 0]],\n",
       " \n",
       "        [[0, 0, 0],\n",
       "         [0, 0, 0],\n",
       "         [0, 0, 0],\n",
       "         ...,\n",
       "         [0, 0, 0],\n",
       "         [0, 0, 0],\n",
       "         [0, 0, 0]],\n",
       " \n",
       "        [[0, 0, 0],\n",
       "         [0, 0, 0],\n",
       "         [0, 0, 0],\n",
       "         ...,\n",
       "         [0, 0, 0],\n",
       "         [0, 0, 0],\n",
       "         [0, 0, 0]],\n",
       " \n",
       "        ...,\n",
       " \n",
       "        [[0, 0, 0],\n",
       "         [0, 0, 0],\n",
       "         [0, 0, 0],\n",
       "         ...,\n",
       "         [0, 0, 0],\n",
       "         [0, 0, 0],\n",
       "         [0, 0, 0]],\n",
       " \n",
       "        [[0, 0, 0],\n",
       "         [0, 0, 0],\n",
       "         [0, 0, 0],\n",
       "         ...,\n",
       "         [0, 0, 0],\n",
       "         [0, 0, 0],\n",
       "         [0, 0, 0]],\n",
       " \n",
       "        [[0, 0, 0],\n",
       "         [0, 0, 0],\n",
       "         [0, 0, 0],\n",
       "         ...,\n",
       "         [0, 0, 0],\n",
       "         [0, 0, 0],\n",
       "         [0, 0, 0]]], dtype=uint8),\n",
       " numpy.ndarray)"
      ]
     },
     "execution_count": 276,
     "metadata": {},
     "output_type": "execute_result"
    }
   ],
   "source": [
    "_, frame = cap.read()\n",
    "_, frame, type(frame)"
   ]
  },
  {
   "cell_type": "code",
   "execution_count": 277,
   "metadata": {},
   "outputs": [
    {
     "data": {
      "text/plain": [
       "-1"
      ]
     },
     "execution_count": 277,
     "metadata": {},
     "output_type": "execute_result"
    }
   ],
   "source": [
    "cv2.imshow(\"frame\", frame)\n",
    "cv2.waitKey(0)"
   ]
  },
  {
   "cell_type": "code",
   "execution_count": 279,
   "metadata": {},
   "outputs": [
    {
     "data": {
      "text/plain": [
       "(NoneType,\n",
       " array([[0, 0, 0, ..., 0, 0, 0],\n",
       "        [0, 0, 0, ..., 0, 0, 0],\n",
       "        [0, 0, 0, ..., 0, 0, 0],\n",
       "        ...,\n",
       "        [0, 0, 0, ..., 0, 0, 0],\n",
       "        [0, 0, 0, ..., 0, 0, 0],\n",
       "        [0, 0, 0, ..., 0, 0, 0]], dtype=uint8),\n",
       " numpy.ndarray)"
      ]
     },
     "execution_count": 279,
     "metadata": {},
     "output_type": "execute_result"
    }
   ],
   "source": [
    "m = nose_mask.fill(0)\n",
    "type(m), nose_mask, type(nose_mask)"
   ]
  },
  {
   "cell_type": "code",
   "execution_count": 280,
   "metadata": {},
   "outputs": [
    {
     "name": "stdout",
     "output_type": "stream",
     "text": [
      "a is : \n",
      " [[89.786 89.786 89.786]\n",
      " [89.786 89.786 89.786]\n",
      " [89.786 89.786 89.786]]\n",
      "\n",
      "After using fill() a is : \n",
      " [[45.938 45.938 45.938]\n",
      " [45.938 45.938 45.938]\n",
      " [45.938 45.938 45.938]]\n"
     ]
    }
   ],
   "source": [
    "# Python program explaining \n",
    "# numpy.ndarray.fill() function \n",
    "import numpy as geek \n",
    "\n",
    "a = geek.empty([3, 3]) \n",
    "\n",
    "# Initializing each element of the array \n",
    "# with 1 by using nested loops \n",
    "for i in range(3): \n",
    "\tfor j in range(3): \n",
    "\t\ta[i][j] = '89.786'\n",
    "\n",
    "print(\"a is : \\n\", a)\t \n",
    "\n",
    "\n",
    "# now we are initializing each element \n",
    "# of the array with 1 using fill() function. \n",
    "a.fill(45.938) \n",
    "\n",
    "print(\"\\nAfter using fill() a is : \\n\", a) \n",
    "\t"
   ]
  },
  {
   "cell_type": "code",
   "execution_count": 281,
   "metadata": {},
   "outputs": [
    {
     "name": "stdout",
     "output_type": "stream",
     "text": [
      "name 'COLOR_BGR2GRAY' is not defined\n"
     ]
    },
    {
     "data": {
      "text/plain": [
       "(6, int, module)"
      ]
     },
     "execution_count": 281,
     "metadata": {},
     "output_type": "execute_result"
    }
   ],
   "source": [
    "try:\n",
    "    print(type(COLOR_BGR2GRAY))\n",
    "    \n",
    "except Exception as e:\n",
    "    print(e)\n",
    "    \n",
    "cv2.COLOR_BGR2GRAY, type(cv2.COLOR_BGR2GRAY), type(cv2)"
   ]
  },
  {
   "cell_type": "code",
   "execution_count": 282,
   "metadata": {},
   "outputs": [
    {
     "data": {
      "text/plain": [
       "(array([[0, 0, 0, ..., 0, 0, 0],\n",
       "        [0, 0, 0, ..., 0, 0, 0],\n",
       "        [0, 0, 0, ..., 0, 0, 0],\n",
       "        ...,\n",
       "        [0, 0, 0, ..., 0, 0, 0],\n",
       "        [0, 0, 0, ..., 0, 0, 0],\n",
       "        [0, 0, 0, ..., 0, 0, 0]], dtype=uint8),\n",
       " numpy.ndarray)"
      ]
     },
     "execution_count": 282,
     "metadata": {},
     "output_type": "execute_result"
    }
   ],
   "source": [
    "gray_frame = cv2.cvtColor(frame, cv2.COLOR_BGR2GRAY)\n",
    "gray_frame, type(gray_frame)"
   ]
  },
  {
   "cell_type": "code",
   "execution_count": 311,
   "metadata": {},
   "outputs": [
    {
     "data": {
      "text/plain": [
       "-1"
      ]
     },
     "execution_count": 311,
     "metadata": {},
     "output_type": "execute_result"
    }
   ],
   "source": [
    "cv2.imshow(\"gray_frame\", gray_frame)\n",
    "cv2.waitKey(0)"
   ]
  },
  {
   "cell_type": "code",
   "execution_count": 284,
   "metadata": {},
   "outputs": [
    {
     "data": {
      "text/plain": [
       "<dlib.fhog_object_detector at 0x200af082ab0>"
      ]
     },
     "execution_count": 284,
     "metadata": {},
     "output_type": "execute_result"
    }
   ],
   "source": [
    "detector"
   ]
  },
  {
   "cell_type": "code",
   "execution_count": 285,
   "metadata": {},
   "outputs": [
    {
     "data": {
      "text/plain": [
       "(rectangles[[(277, 211) (427, 360)]], dlib.rectangles)"
      ]
     },
     "execution_count": 285,
     "metadata": {},
     "output_type": "execute_result"
    }
   ],
   "source": [
    "faces = detector(frame)\n",
    "faces, type(faces)"
   ]
  },
  {
   "cell_type": "code",
   "execution_count": 286,
   "metadata": {},
   "outputs": [
    {
     "data": {
      "text/plain": [
       "(<dlib.shape_predictor at 0x200af082370>, 2366444481136)"
      ]
     },
     "execution_count": 286,
     "metadata": {},
     "output_type": "execute_result"
    }
   ],
   "source": [
    "predictor, 0x226fb152a70"
   ]
  },
  {
   "cell_type": "code",
   "execution_count": 287,
   "metadata": {},
   "outputs": [
    {
     "data": {
      "text/plain": [
       "(<dlib.full_object_detection at 0x200af0992f0>, 2366437674416)"
      ]
     },
     "execution_count": 287,
     "metadata": {},
     "output_type": "execute_result"
    }
   ],
   "source": [
    "for face in faces:\n",
    "    landmarks = predictor(gray_frame, face)\n",
    "#     print(landmarks)\n",
    "    \n",
    "landmarks, 0x226faad4db0"
   ]
  },
  {
   "cell_type": "code",
   "execution_count": 288,
   "metadata": {
    "scrolled": true
   },
   "outputs": [
    {
     "name": "stdout",
     "output_type": "stream",
     "text": [
      ".... x and y coordinates of <<< Shape predictor 68 face landmarks >>>\n",
      "\n",
      " x   y\n",
      "-------\n",
      "(289, 267) 289 267\n",
      "(292, 282) 292 282\n",
      "(297, 298) 297 298\n",
      "(303, 313) 303 313\n",
      "(311, 327) 311 327\n",
      "(322, 338) 322 338\n",
      "(337, 347) 337 347\n",
      "(354, 353) 354 353\n",
      "(372, 352) 372 352\n",
      "(389, 346) 389 346\n",
      "(401, 335) 401 335\n",
      "(408, 322) 408 322\n",
      "(414, 308) 414 308\n",
      "(417, 293) 417 293\n",
      "(418, 278) 418 278\n",
      "(417, 264) 417 264\n",
      "(415, 249) 415 249\n",
      "(297, 256) 297 256\n",
      "(303, 243) 303 243\n",
      "(316, 236) 316 236\n",
      "(331, 235) 331 235\n",
      "(344, 239) 344 239\n",
      "(360, 237) 360 237\n",
      "(371, 230) 371 230\n",
      "(384, 227) 384 227\n",
      "(397, 229) 397 229\n",
      "(406, 238) 406 238\n",
      "(355, 253) 355 253\n",
      "(357, 265) 357 265\n",
      "(359, 276) 359 276\n",
      "(361, 287) 361 287\n",
      "(347, 297) 347 297\n",
      "(354, 298) 354 298\n",
      "(362, 298) 362 298\n",
      "(369, 295) 369 295\n",
      "(375, 292) 375 292\n",
      "(312, 263) 312 263\n",
      "(320, 257) 320 257\n",
      "(329, 256) 329 256\n",
      "(337, 261) 337 261\n",
      "(329, 264) 329 264\n",
      "(320, 266) 320 266\n",
      "(371, 256) 371 256\n",
      "(379, 250) 379 250\n",
      "(388, 248) 388 248\n",
      "(395, 251) 395 251\n",
      "(390, 256) 390 256\n",
      "(380, 257) 380 257\n",
      "(335, 319) 335 319\n",
      "(346, 313) 346 313\n",
      "(355, 308) 355 308\n",
      "(362, 309) 362 309\n",
      "(369, 306) 369 306\n",
      "(377, 307) 377 307\n",
      "(386, 310) 386 310\n",
      "(380, 317) 380 317\n",
      "(373, 323) 373 323\n",
      "(365, 325) 365 325\n",
      "(358, 326) 358 326\n",
      "(348, 325) 348 325\n",
      "(340, 318) 340 318\n",
      "(356, 315) 356 315\n",
      "(363, 314) 363 314\n",
      "(370, 312) 370 312\n",
      "(382, 311) 382 311\n",
      "(371, 313) 371 313\n",
      "(364, 316) 364 316\n",
      "(357, 317) 357 317\n"
     ]
    },
    {
     "data": {
      "text/plain": [
       "(dlib.full_object_detection, dlib.point, int)"
      ]
     },
     "execution_count": 288,
     "metadata": {},
     "output_type": "execute_result"
    }
   ],
   "source": [
    "import os\n",
    "faceial_points = r'C:\\Users\\Vicky Kumar\\Pictures\\Saved Pictures\\facial_landmarks_68markup-768x619.jpg'\n",
    "os.startfile(faceial_points) # post Shape predictor 68 face landmarks photo and a video...\n",
    "\n",
    "print('.... x and y coordinates of <<< Shape predictor 68 face landmarks >>>', end = '\\n\\n')\n",
    "print(' x   y')\n",
    "print('-------')\n",
    "\n",
    "for p in range(68):\n",
    "    print(landmarks.part(p), landmarks.part(p).x, landmarks.part(p).y)\n",
    "    \n",
    "type(landmarks), type(landmarks.part(67)), type(landmarks.part(0).x)"
   ]
  },
  {
   "cell_type": "code",
   "execution_count": 289,
   "metadata": {},
   "outputs": [
    {
     "data": {
      "text/plain": [
       "((359, 276), tuple)"
      ]
     },
     "execution_count": 289,
     "metadata": {},
     "output_type": "execute_result"
    }
   ],
   "source": [
    "# Nose coordinates\n",
    "\n",
    "top_nose = landmarks.part(29).x, landmarks.part(29).y\n",
    "top_nose, type(top_nose)"
   ]
  },
  {
   "cell_type": "code",
   "execution_count": 290,
   "metadata": {},
   "outputs": [
    {
     "data": {
      "text/plain": [
       "((361, 287), tuple)"
      ]
     },
     "execution_count": 290,
     "metadata": {},
     "output_type": "execute_result"
    }
   ],
   "source": [
    "center_nose = (landmarks.part(30).x, landmarks.part(30).y)\n",
    "center_nose, type(center_nose)"
   ]
  },
  {
   "cell_type": "code",
   "execution_count": 291,
   "metadata": {},
   "outputs": [
    {
     "data": {
      "text/plain": [
       "((347, 297), 347, 297)"
      ]
     },
     "execution_count": 291,
     "metadata": {},
     "output_type": "execute_result"
    }
   ],
   "source": [
    "left_nose = (landmarks.part(31).x, landmarks.part(31).y)\n",
    "left_nose, left_nose[0], left_nose[1]"
   ]
  },
  {
   "cell_type": "code",
   "execution_count": 292,
   "metadata": {},
   "outputs": [
    {
     "data": {
      "text/plain": [
       "((375, 292), (375, 292))"
      ]
     },
     "execution_count": 292,
     "metadata": {},
     "output_type": "execute_result"
    }
   ],
   "source": [
    "right_nose = (landmarks.part(35).x, landmarks.part(35).y)\n",
    "\n",
    "rn01 = right_nose[0], right_nose[1]\n",
    "\n",
    "right_nose, rn01"
   ]
  },
  {
   "cell_type": "code",
   "execution_count": 293,
   "metadata": {},
   "outputs": [
    {
     "data": {
      "text/plain": [
       "48"
      ]
     },
     "execution_count": 293,
     "metadata": {},
     "output_type": "execute_result"
    }
   ],
   "source": [
    "nose_width = int(hypot(left_nose[0] - right_nose[0], left_nose[1] - right_nose[1]) * 1.7)\n",
    "nose_width"
   ]
  },
  {
   "cell_type": "code",
   "execution_count": 294,
   "metadata": {},
   "outputs": [
    {
     "name": "stdout",
     "output_type": "stream",
     "text": [
      "hypot(3, 4) :  5.0\n",
      "hypot(-3, 4) :  5.0\n",
      "hypot(6, 6) :  8.48528137423857\n"
     ]
    }
   ],
   "source": [
    "# Python3 program for hypot() function \n",
    "\n",
    "# Import the math module \n",
    "import math \n",
    "\n",
    "# Use of hypot fucntion \n",
    "print(\"hypot(3, 4) : \", math.hypot(3, 4)) \n",
    "\n",
    "# Neglects the negative sign \n",
    "print(\"hypot(-3, 4) : \", math.hypot(-3, 4)) \n",
    "\n",
    "print(\"hypot(6, 6) : \", math.hypot(6, 6)) \n"
   ]
  },
  {
   "cell_type": "code",
   "execution_count": 295,
   "metadata": {},
   "outputs": [
    {
     "name": "stdout",
     "output_type": "stream",
     "text": [
      "leg1 array :  [12, 3, 4, 6]\n",
      "leg2 array :  [5, 4, 3, 8]\n",
      "\n",
      "Hypotenuse is as follows :\n",
      "[13.  5.  5. 10.]\n"
     ]
    }
   ],
   "source": [
    "# hypot() function ... to calculate hypotaneous of Triangle.\n",
    "\n",
    "import numpy as np \n",
    "\n",
    "leg1 = [12, 3, 4, 6] \n",
    "print (\"leg1 array : \", leg1) \n",
    "\n",
    "\n",
    "leg2 = [5, 4, 3, 8] \n",
    "print (\"leg2 array : \", leg2) \n",
    "\n",
    "result = np.hypot(leg1, leg2) \n",
    "print(\"\\nHypotenuse is as follows :\") \n",
    "print(result) \n"
   ]
  },
  {
   "cell_type": "code",
   "execution_count": 296,
   "metadata": {},
   "outputs": [
    {
     "data": {
      "text/plain": [
       "36"
      ]
     },
     "execution_count": 296,
     "metadata": {},
     "output_type": "execute_result"
    }
   ],
   "source": [
    "nose_height = int(nose_width * 0.77) # fact : ratio\n",
    "nose_height"
   ]
  },
  {
   "cell_type": "code",
   "execution_count": 297,
   "metadata": {},
   "outputs": [
    {
     "data": {
      "text/plain": [
       "(337, 269)"
      ]
     },
     "execution_count": 297,
     "metadata": {},
     "output_type": "execute_result"
    }
   ],
   "source": [
    "# New nose position\n",
    "\n",
    "top_left = (int(center_nose[0] - nose_width / 2), int(center_nose[1] - nose_height / 2))\n",
    "top_left"
   ]
  },
  {
   "cell_type": "code",
   "execution_count": 298,
   "metadata": {},
   "outputs": [
    {
     "data": {
      "text/plain": [
       "(385, 305)"
      ]
     },
     "execution_count": 298,
     "metadata": {},
     "output_type": "execute_result"
    }
   ],
   "source": [
    "bottom_right = (int(center_nose[0] + nose_width / 2), int(center_nose[1] + nose_height / 2))\n",
    "bottom_right"
   ]
  },
  {
   "cell_type": "code",
   "execution_count": 346,
   "metadata": {
    "scrolled": true
   },
   "outputs": [
    {
     "data": {
      "text/plain": [
       "(array([[[0, 0, 0],\n",
       "         [0, 0, 0],\n",
       "         [0, 0, 0],\n",
       "         ...,\n",
       "         [0, 0, 0],\n",
       "         [0, 0, 0],\n",
       "         [0, 0, 0]],\n",
       " \n",
       "        [[0, 0, 0],\n",
       "         [0, 0, 0],\n",
       "         [0, 0, 0],\n",
       "         ...,\n",
       "         [0, 0, 0],\n",
       "         [0, 0, 0],\n",
       "         [0, 0, 0]],\n",
       " \n",
       "        [[0, 0, 0],\n",
       "         [0, 0, 0],\n",
       "         [0, 0, 0],\n",
       "         ...,\n",
       "         [0, 0, 0],\n",
       "         [0, 0, 0],\n",
       "         [0, 0, 0]],\n",
       " \n",
       "        ...,\n",
       " \n",
       "        [[0, 0, 0],\n",
       "         [0, 0, 0],\n",
       "         [0, 0, 0],\n",
       "         ...,\n",
       "         [0, 0, 0],\n",
       "         [0, 0, 0],\n",
       "         [0, 0, 0]],\n",
       " \n",
       "        [[0, 0, 0],\n",
       "         [0, 0, 0],\n",
       "         [0, 0, 0],\n",
       "         ...,\n",
       "         [0, 0, 0],\n",
       "         [0, 0, 0],\n",
       "         [0, 0, 0]],\n",
       " \n",
       "        [[0, 0, 0],\n",
       "         [0, 0, 0],\n",
       "         [0, 0, 0],\n",
       "         ...,\n",
       "         [0, 0, 0],\n",
       "         [0, 0, 0],\n",
       "         [0, 0, 0]]], dtype=uint8),\n",
       " numpy.ndarray)"
      ]
     },
     "execution_count": 346,
     "metadata": {},
     "output_type": "execute_result"
    }
   ],
   "source": [
    "# Adding the new nose\n",
    "\n",
    "nose_pig = cv2.resize(nose_image, (nose_width, nose_height))\n",
    "nose_pig, type(nose_pig)"
   ]
  },
  {
   "cell_type": "code",
   "execution_count": 347,
   "metadata": {},
   "outputs": [
    {
     "data": {
      "text/plain": [
       "-1"
      ]
     },
     "execution_count": 347,
     "metadata": {},
     "output_type": "execute_result"
    }
   ],
   "source": [
    "cv2.imshow(\"nose_pig\", nose_pig)\n",
    "cv2.waitKey(0)"
   ]
  },
  {
   "cell_type": "code",
   "execution_count": 304,
   "metadata": {},
   "outputs": [
    {
     "data": {
      "text/plain": [
       "(array([[0, 0, 0, ..., 0, 0, 0],\n",
       "        [0, 0, 0, ..., 0, 0, 0],\n",
       "        [0, 0, 0, ..., 0, 0, 0],\n",
       "        ...,\n",
       "        [0, 0, 0, ..., 0, 0, 0],\n",
       "        [0, 0, 0, ..., 0, 0, 0],\n",
       "        [0, 0, 0, ..., 0, 0, 0]], dtype=uint8),\n",
       " numpy.ndarray)"
      ]
     },
     "execution_count": 304,
     "metadata": {},
     "output_type": "execute_result"
    }
   ],
   "source": [
    "nose_pig_gray = cv2.cvtColor(nose_pig, cv2.COLOR_BGR2GRAY)\n",
    "nose_pig_gray, type(nose_pig_gray)"
   ]
  },
  {
   "cell_type": "code",
   "execution_count": 334,
   "metadata": {},
   "outputs": [
    {
     "data": {
      "text/plain": [
       "-1"
      ]
     },
     "execution_count": 334,
     "metadata": {},
     "output_type": "execute_result"
    }
   ],
   "source": [
    "cv2.imshow(\"nose_pig_gray\", nose_pig_gray)\n",
    "cv2.waitKey(0)"
   ]
  },
  {
   "cell_type": "code",
   "execution_count": 323,
   "metadata": {},
   "outputs": [
    {
     "data": {
      "text/plain": [
       "(25.0,\n",
       " array([[255, 255, 255, ..., 255, 255, 255],\n",
       "        [255, 255, 255, ..., 255, 255, 255],\n",
       "        [255, 255, 255, ..., 255, 255, 255],\n",
       "        ...,\n",
       "        [255, 255, 255, ..., 255, 255, 255],\n",
       "        [255, 255, 255, ..., 255, 255, 255],\n",
       "        [255, 255, 255, ..., 255, 255, 255]], dtype=uint8),\n",
       " numpy.ndarray,\n",
       " <function threshold>)"
      ]
     },
     "execution_count": 323,
     "metadata": {},
     "output_type": "execute_result"
    }
   ],
   "source": [
    "_, nose_mask = cv2.threshold(nose_pig_gray, 25, 255, cv2.THRESH_BINARY_INV)\n",
    "\n",
    "_, nose_mask, type(nose_mask), cv2.threshold"
   ]
  },
  {
   "cell_type": "code",
   "execution_count": 342,
   "metadata": {
    "scrolled": true
   },
   "outputs": [
    {
     "data": {
      "text/plain": [
       "(array([[[77, 59, 57],\n",
       "         [68, 53, 48],\n",
       "         [61, 48, 45],\n",
       "         ...,\n",
       "         [85, 74, 81],\n",
       "         [83, 72, 79],\n",
       "         [79, 68, 73]],\n",
       " \n",
       "        [[77, 59, 58],\n",
       "         [66, 50, 49],\n",
       "         [59, 45, 46],\n",
       "         ...,\n",
       "         [77, 70, 74],\n",
       "         [76, 67, 72],\n",
       "         [80, 72, 75]],\n",
       " \n",
       "        [[74, 56, 55],\n",
       "         [67, 51, 50],\n",
       "         [63, 49, 50],\n",
       "         ...,\n",
       "         [77, 70, 74],\n",
       "         [77, 68, 73],\n",
       "         [80, 72, 75]],\n",
       " \n",
       "        ...,\n",
       " \n",
       "        [[56, 51, 55],\n",
       "         [57, 52, 55],\n",
       "         [59, 54, 57],\n",
       "         ...,\n",
       "         [68, 60, 61],\n",
       "         [72, 65, 66],\n",
       "         [65, 63, 63]],\n",
       " \n",
       "        [[56, 51, 55],\n",
       "         [56, 51, 54],\n",
       "         [55, 50, 53],\n",
       "         ...,\n",
       "         [67, 59, 60],\n",
       "         [70, 63, 64],\n",
       "         [66, 64, 64]],\n",
       " \n",
       "        [[49, 46, 49],\n",
       "         [47, 47, 45],\n",
       "         [47, 45, 43],\n",
       "         ...,\n",
       "         [75, 64, 61],\n",
       "         [74, 64, 65],\n",
       "         [80, 72, 75]]], dtype=uint8),\n",
       " numpy.ndarray)"
      ]
     },
     "execution_count": 342,
     "metadata": {},
     "output_type": "execute_result"
    }
   ],
   "source": [
    "nose_area = frame[top_left[1]: top_left[1] + nose_height, top_left[0]: top_left[0] + nose_width]\n",
    "nose_area, type(nose_area)"
   ]
  },
  {
   "cell_type": "code",
   "execution_count": 343,
   "metadata": {},
   "outputs": [
    {
     "data": {
      "text/plain": [
       "-1"
      ]
     },
     "execution_count": 343,
     "metadata": {},
     "output_type": "execute_result"
    }
   ],
   "source": [
    "cv2.imshow(\"nose_area\", nose_area)\n",
    "cv2.waitKey(0)"
   ]
  },
  {
   "cell_type": "markdown",
   "metadata": {},
   "source": [
    "## Arithmetic Operations on Images using OpenCV | Set-2 (Bitwise Operations on Binary Images)\n",
    "\n",
    "### https://www.geeksforgeeks.org/arithmetic-operations-on-images-using-opencv-set-2-bitwise-operations-on-binary-images/"
   ]
  },
  {
   "cell_type": "code",
   "execution_count": 344,
   "metadata": {
    "scrolled": true
   },
   "outputs": [
    {
     "data": {
      "text/plain": [
       "array([[[77, 59, 57],\n",
       "        [68, 53, 48],\n",
       "        [61, 48, 45],\n",
       "        ...,\n",
       "        [85, 74, 81],\n",
       "        [83, 72, 79],\n",
       "        [79, 68, 73]],\n",
       "\n",
       "       [[77, 59, 58],\n",
       "        [66, 50, 49],\n",
       "        [59, 45, 46],\n",
       "        ...,\n",
       "        [77, 70, 74],\n",
       "        [76, 67, 72],\n",
       "        [80, 72, 75]],\n",
       "\n",
       "       [[74, 56, 55],\n",
       "        [67, 51, 50],\n",
       "        [63, 49, 50],\n",
       "        ...,\n",
       "        [77, 70, 74],\n",
       "        [77, 68, 73],\n",
       "        [80, 72, 75]],\n",
       "\n",
       "       ...,\n",
       "\n",
       "       [[56, 51, 55],\n",
       "        [57, 52, 55],\n",
       "        [59, 54, 57],\n",
       "        ...,\n",
       "        [68, 60, 61],\n",
       "        [72, 65, 66],\n",
       "        [65, 63, 63]],\n",
       "\n",
       "       [[56, 51, 55],\n",
       "        [56, 51, 54],\n",
       "        [55, 50, 53],\n",
       "        ...,\n",
       "        [67, 59, 60],\n",
       "        [70, 63, 64],\n",
       "        [66, 64, 64]],\n",
       "\n",
       "       [[49, 46, 49],\n",
       "        [47, 47, 45],\n",
       "        [47, 45, 43],\n",
       "        ...,\n",
       "        [75, 64, 61],\n",
       "        [74, 64, 65],\n",
       "        [80, 72, 75]]], dtype=uint8)"
      ]
     },
     "execution_count": 344,
     "metadata": {},
     "output_type": "execute_result"
    }
   ],
   "source": [
    "nose_area_no_nose = cv2.bitwise_and(nose_area, nose_area, mask=nose_mask)\n",
    "nose_area_no_nose"
   ]
  },
  {
   "cell_type": "code",
   "execution_count": 345,
   "metadata": {},
   "outputs": [
    {
     "data": {
      "text/plain": [
       "-1"
      ]
     },
     "execution_count": 345,
     "metadata": {},
     "output_type": "execute_result"
    }
   ],
   "source": [
    "cv2.imshow(\"nose_area_no_nose\", nose_area_no_nose)\n",
    "cv2.waitKey(0)"
   ]
  },
  {
   "cell_type": "code",
   "execution_count": 330,
   "metadata": {
    "scrolled": true
   },
   "outputs": [
    {
     "data": {
      "text/plain": [
       "array([[[77, 59, 57],\n",
       "        [68, 53, 48],\n",
       "        [61, 48, 45],\n",
       "        ...,\n",
       "        [85, 74, 81],\n",
       "        [83, 72, 79],\n",
       "        [79, 68, 73]],\n",
       "\n",
       "       [[77, 59, 58],\n",
       "        [66, 50, 49],\n",
       "        [59, 45, 46],\n",
       "        ...,\n",
       "        [77, 70, 74],\n",
       "        [76, 67, 72],\n",
       "        [80, 72, 75]],\n",
       "\n",
       "       [[74, 56, 55],\n",
       "        [67, 51, 50],\n",
       "        [63, 49, 50],\n",
       "        ...,\n",
       "        [77, 70, 74],\n",
       "        [77, 68, 73],\n",
       "        [80, 72, 75]],\n",
       "\n",
       "       ...,\n",
       "\n",
       "       [[56, 51, 55],\n",
       "        [57, 52, 55],\n",
       "        [59, 54, 57],\n",
       "        ...,\n",
       "        [68, 60, 61],\n",
       "        [72, 65, 66],\n",
       "        [65, 63, 63]],\n",
       "\n",
       "       [[56, 51, 55],\n",
       "        [56, 51, 54],\n",
       "        [55, 50, 53],\n",
       "        ...,\n",
       "        [67, 59, 60],\n",
       "        [70, 63, 64],\n",
       "        [66, 64, 64]],\n",
       "\n",
       "       [[49, 46, 49],\n",
       "        [47, 47, 45],\n",
       "        [47, 45, 43],\n",
       "        ...,\n",
       "        [75, 64, 61],\n",
       "        [74, 64, 65],\n",
       "        [80, 72, 75]]], dtype=uint8)"
      ]
     },
     "execution_count": 330,
     "metadata": {},
     "output_type": "execute_result"
    }
   ],
   "source": [
    "final_nose = cv2.add(nose_area_no_nose, nose_pig)\n",
    "final_nose"
   ]
  },
  {
   "cell_type": "code",
   "execution_count": 350,
   "metadata": {},
   "outputs": [
    {
     "data": {
      "text/plain": [
       "-1"
      ]
     },
     "execution_count": 350,
     "metadata": {},
     "output_type": "execute_result"
    }
   ],
   "source": [
    "cv2.imshow(\"final_nose\", final_nose)\n",
    "cv2.waitKey(0)"
   ]
  },
  {
   "cell_type": "code",
   "execution_count": 348,
   "metadata": {
    "scrolled": true
   },
   "outputs": [
    {
     "data": {
      "text/plain": [
       "array([[[77, 59, 57],\n",
       "        [68, 53, 48],\n",
       "        [61, 48, 45],\n",
       "        ...,\n",
       "        [85, 74, 81],\n",
       "        [83, 72, 79],\n",
       "        [79, 68, 73]],\n",
       "\n",
       "       [[77, 59, 58],\n",
       "        [66, 50, 49],\n",
       "        [59, 45, 46],\n",
       "        ...,\n",
       "        [77, 70, 74],\n",
       "        [76, 67, 72],\n",
       "        [80, 72, 75]],\n",
       "\n",
       "       [[74, 56, 55],\n",
       "        [67, 51, 50],\n",
       "        [63, 49, 50],\n",
       "        ...,\n",
       "        [77, 70, 74],\n",
       "        [77, 68, 73],\n",
       "        [80, 72, 75]],\n",
       "\n",
       "       ...,\n",
       "\n",
       "       [[56, 51, 55],\n",
       "        [57, 52, 55],\n",
       "        [59, 54, 57],\n",
       "        ...,\n",
       "        [68, 60, 61],\n",
       "        [72, 65, 66],\n",
       "        [65, 63, 63]],\n",
       "\n",
       "       [[56, 51, 55],\n",
       "        [56, 51, 54],\n",
       "        [55, 50, 53],\n",
       "        ...,\n",
       "        [67, 59, 60],\n",
       "        [70, 63, 64],\n",
       "        [66, 64, 64]],\n",
       "\n",
       "       [[49, 46, 49],\n",
       "        [47, 47, 45],\n",
       "        [47, 45, 43],\n",
       "        ...,\n",
       "        [75, 64, 61],\n",
       "        [74, 64, 65],\n",
       "        [80, 72, 75]]], dtype=uint8)"
      ]
     },
     "execution_count": 348,
     "metadata": {},
     "output_type": "execute_result"
    }
   ],
   "source": [
    "fn = frame[top_left[1]: top_left[1] + nose_height, top_left[0]: top_left[0] + nose_width] = final_nose\n",
    "fn"
   ]
  },
  {
   "cell_type": "code",
   "execution_count": 351,
   "metadata": {},
   "outputs": [
    {
     "data": {
      "text/plain": [
       "-1"
      ]
     },
     "execution_count": 351,
     "metadata": {},
     "output_type": "execute_result"
    }
   ],
   "source": [
    "cv2.imshow(\"final_nose\", fn)\n",
    "cv2.waitKey(0)"
   ]
  },
  {
   "cell_type": "code",
   "execution_count": 357,
   "metadata": {},
   "outputs": [
    {
     "data": {
      "text/plain": [
       "113"
      ]
     },
     "execution_count": 357,
     "metadata": {},
     "output_type": "execute_result"
    }
   ],
   "source": [
    "cv2.imshow(\"Nose area\", nose_area)\n",
    "cv2.imshow(\"Nose pig\", nose_pig)\n",
    "cv2.imshow(\"final nose\", final_nose)\n",
    "cv2.waitKey(0)"
   ]
  },
  {
   "cell_type": "code",
   "execution_count": 354,
   "metadata": {},
   "outputs": [
    {
     "data": {
      "text/plain": [
       "-1"
      ]
     },
     "execution_count": 354,
     "metadata": {},
     "output_type": "execute_result"
    }
   ],
   "source": [
    "cv2.imshow(\"Frame\", frame)\n",
    "cv2.waitKey(0)"
   ]
  },
  {
   "cell_type": "code",
   "execution_count": 312,
   "metadata": {},
   "outputs": [
    {
     "data": {
      "text/plain": [
       "(None, None)"
      ]
     },
     "execution_count": 312,
     "metadata": {},
     "output_type": "execute_result"
    }
   ],
   "source": [
    "a = cap.release()\n",
    "b = cv2.destroyAllWindows()\n",
    "\n",
    "a, b"
   ]
  },
  {
   "cell_type": "code",
   "execution_count": null,
   "metadata": {},
   "outputs": [],
   "source": []
  }
 ],
 "metadata": {
  "kernelspec": {
   "display_name": "Python 3",
   "language": "python",
   "name": "python3"
  },
  "language_info": {
   "codemirror_mode": {
    "name": "ipython",
    "version": 3
   },
   "file_extension": ".py",
   "mimetype": "text/x-python",
   "name": "python",
   "nbconvert_exporter": "python",
   "pygments_lexer": "ipython3",
   "version": "3.7.4"
  }
 },
 "nbformat": 4,
 "nbformat_minor": 4
}
