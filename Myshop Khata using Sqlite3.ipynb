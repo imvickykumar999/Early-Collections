{
 "cells": [
  {
   "cell_type": "code",
   "execution_count": 12,
   "metadata": {
    "scrolled": true
   },
   "outputs": [
    {
     "name": "stdout",
     "output_type": "stream",
     "text": [
      "\n",
      "Menu...\n",
      "\n",
      "1: data_entry()\n",
      "2: show_table()\n",
      "3: update_table()\n",
      "4: exit()\n",
      "\n",
      "Enter choice : 1\n",
      "Enter Customer Code : 3\n",
      "Enter price : 34\n",
      "Enter product : maggi\n",
      "We have inserted 1 records to the table.\n",
      "\n",
      "Menu...\n",
      "\n",
      "1: data_entry()\n",
      "2: show_table()\n",
      "3: update_table()\n",
      "4: exit()\n",
      "\n",
      "Enter choice : 2\n",
      "Enter Customer Code : 3\n",
      "\n",
      "1). PRICE 2). PRODUCT 3). DATE\n",
      "\n",
      "(34.0, 'maggi', '9/3/2020')\n",
      "\n",
      "Menu...\n",
      "\n",
      "1: data_entry()\n",
      "2: show_table()\n",
      "3: update_table()\n",
      "4: exit()\n",
      "\n",
      "Enter choice : 3\n",
      "Enter Customer Code : 3\n",
      "\n",
      "1). PRICE 2). PRODUCT 3). DATE\n",
      "\n",
      "Enter column to_update : product\n",
      "Enter value of update_equal : chips and toffes\n",
      "Enter column something : product\n",
      "Enter value of is_something : maggi\n",
      "Total number of rows updated : 1\n",
      "\n",
      "Menu...\n",
      "\n",
      "1: data_entry()\n",
      "2: show_table()\n",
      "3: update_table()\n",
      "4: exit()\n",
      "\n",
      "Enter choice : 2\n",
      "Enter Customer Code : 3\n",
      "\n",
      "1). PRICE 2). PRODUCT 3). DATE\n",
      "\n",
      "(34.0, 'maggi', '9/3/2020')\n",
      "\n",
      "Menu...\n",
      "\n",
      "1: data_entry()\n",
      "2: show_table()\n",
      "3: update_table()\n",
      "4: exit()\n",
      "\n",
      "Enter choice : 2\n",
      "Enter Customer Code : 2\n",
      "\n",
      "1). PRICE 2). PRODUCT 3). DATE\n",
      "\n",
      "(45.0, 'tata tea', '9/3/2020')\n",
      "(34.0, 'aaa', '9/3/2020')\n",
      "\n",
      "Menu...\n",
      "\n",
      "1: data_entry()\n",
      "2: show_table()\n",
      "3: update_table()\n",
      "4: exit()\n",
      "\n",
      "Enter choice : 4\n"
     ]
    }
   ],
   "source": [
    "import sqlite3\n",
    "from datetime import date\n",
    "conn = sqlite3.connect(r'C:\\Users\\Vicky Kumar\\Desktop\\face detection attendence file\\Sqlite database\\myshop.db')\n",
    "c = conn.cursor()\n",
    "\n",
    "def data_entry():\n",
    "\n",
    "    customer_code = input('Enter Customer Code : ')\n",
    "    price = float(input('Enter price : '))\n",
    "    if price < 0:\n",
    "        product = \"...PAID...\"\n",
    "    else:\n",
    "        product = input('Enter product : ')\n",
    "    \n",
    "    myDate = date.today()\n",
    "    day = str(myDate.day)+ \"/\" + str(myDate.month) + \"/\" + str(myDate.year)\n",
    "    \n",
    "    c.execute(\"CREATE TABLE IF NOT EXISTS '\" + str(customer_code) + \"' (price REAL, product TEXT, day TEXT)\") \n",
    "    c.execute(\"INSERT INTO '\" + str(customer_code) + \"' (price, product, day) VALUES(?, ?, ?)\", (price, product, day)) \n",
    "    conn.commit()\n",
    "    print('We have inserted', c.rowcount, 'records to the table.')\n",
    "\n",
    "    \n",
    "def show_table():\n",
    "    \n",
    "    customer_code = input('Enter Customer Code : ')\n",
    "    c.execute(\"SELECT * FROM '\" + str(customer_code) + \"';\") \n",
    "    rows = c.fetchall()\n",
    "    print('\\n1). PRICE 2). PRODUCT 3). DATE\\n')\n",
    "    for row in rows:\n",
    "        print(row) \n",
    "\n",
    "def update_table():\n",
    "        \n",
    "    customer_code = input('Enter Customer Code : ')\n",
    "    print('\\n1). PRICE 2). PRODUCT 3). DATE\\n')\n",
    "    \n",
    "    to_update = input('Enter column to_update : ')\n",
    "    update_equal = input('Enter value of update_equal : ')\n",
    "    something = input('Enter column something : ')\n",
    "    is_something = input('Enter value of is_something : ')\n",
    "    \n",
    "    conn.execute(\"UPDATE '\" + str(customer_code) + \"' SET '\" + str(to_update) + \"' = '\" + str(update_equal) + \"' WHERE '\" + str(something) + \"' = '\" + str(is_something) + \"'\") \n",
    "    \n",
    "#     if to_update is 'price' and something is 'price':\n",
    "#         conn.execute(\"UPDATE '\" + str(customer_code) + \"' SET '\" + str(to_update) + \"' = \" + str(update_equal) + \" WHERE '\" + str(something) + \"' = \" + str(is_something)\"\") \n",
    "#     elif to_update is 'price' and something is not 'price':\n",
    "#         conn.execute(\"UPDATE '\" + str(customer_code) + \"' SET '\" + str(to_update) + \"' = \" + str(update_equal) + \" WHERE '\" + str(something) + \"' = '\" + str(is_something) + \"'\") \n",
    "#     elif to_update is not 'price' and something is 'price':\n",
    "#         conn.execute(\"UPDATE '\" + str(customer_code) + \"' SET '\" + str(to_update) + \"' = '\" + str(update_equal) + \"' WHERE '\" + str(something) + \"' = \" + str(is_something)\"\") \n",
    "#     elif to_update is not 'price' and something is not 'price':\n",
    "#         conn.execute(\"UPDATE '\" + str(customer_code) + \"' SET '\" + str(to_update) + \"' = '\" + str(update_equal) + \"' WHERE '\" + str(something) + \"' = '\" + str(is_something) + \"'\") \n",
    "#     else:\n",
    "#         print('YOU ARE DEVELOPER...!!!')\n",
    "                     \n",
    "    conn.commit()\n",
    "    print (\"Total number of rows updated :\", conn.total_changes) \n",
    "\n",
    "        \n",
    "# def switch_menu(opt):\n",
    "    \n",
    "#     switcher = {\n",
    "#         1: data_entry(), \n",
    "#         2: show_table(), \n",
    "#         3: update_table(to_update, update_equal, something, is_something)\n",
    "#     }\n",
    "#     return switcher.get(opt, \"nothing\")\n",
    "        \n",
    "def main():\n",
    "    \n",
    "    while True:\n",
    "        print(\"\\nMenu...\\n\")\n",
    "        \n",
    "        print('1: data_entry()')\n",
    "        print('2: show_table()')\n",
    "        print('3: update_table()')\n",
    "        print('4: exit()\\n')\n",
    "\n",
    "        opt = int(input(\"Enter choice : \"))\n",
    "#         switch_menu(opt)\n",
    "\n",
    "        if opt == 1:\n",
    "            data_entry()\n",
    "        elif opt == 2:\n",
    "            show_table()\n",
    "        elif opt == 3:\n",
    "            update_table()\n",
    "        elif opt == 4:\n",
    "            break\n",
    "        else:\n",
    "            continue\n",
    "        \n",
    "    c.close()\n",
    "    conn.close()\n",
    "    \n",
    "if __name__ == \"__main__\": \n",
    "    main()"
   ]
  },
  {
   "cell_type": "code",
   "execution_count": 2,
   "metadata": {},
   "outputs": [
    {
     "data": {
      "text/plain": [
       "(str, '9/3/2020')"
      ]
     },
     "execution_count": 2,
     "metadata": {},
     "output_type": "execute_result"
    }
   ],
   "source": [
    "from datetime import date\n",
    "myDate = date.today()\n",
    "today = str(myDate.day)+ \"/\" + str(myDate.month) + \"/\" + str(myDate.year)    \n",
    "type(today), today"
   ]
  },
  {
   "cell_type": "code",
   "execution_count": 3,
   "metadata": {},
   "outputs": [
    {
     "name": "stdout",
     "output_type": "stream",
     "text": [
      "1234\n"
     ]
    }
   ],
   "source": [
    "# Function to convert number into string \n",
    "# Switcher is dictionary data type here \n",
    "def numbers_to_strings(argument): \n",
    "    switcher = { \n",
    "        0: 1234, \n",
    "        1: \"one\", \n",
    "        2: \"two\", \n",
    "    } \n",
    "  \n",
    "    # get() method of dictionary data type returns  \n",
    "    # value of passed argument if it is present  \n",
    "    # in dictionary otherwise second argument will \n",
    "    # be assigned as default value of passed argument \n",
    "    return switcher.get(argument, \"nothing\") \n",
    "  \n",
    "# Driver program \n",
    "if __name__ == \"__main__\": \n",
    "    argument=0\n",
    "    print (numbers_to_strings(argument) )"
   ]
  },
  {
   "cell_type": "code",
   "execution_count": 4,
   "metadata": {},
   "outputs": [
    {
     "name": "stdout",
     "output_type": "stream",
     "text": [
      "3\n",
      "[78, 'hgch']\n"
     ]
    }
   ],
   "source": [
    "a = int(input())\n",
    "b = {1: 2, 2: 'jdfdf', 3: [78,'hgch']}\n",
    "print(b.get(a))"
   ]
  },
  {
   "cell_type": "code",
   "execution_count": 5,
   "metadata": {},
   "outputs": [
    {
     "name": "stdout",
     "output_type": "stream",
     "text": [
      "Name:  Phill\n",
      "Age:  22\n",
      "Salary:  None\n",
      "Salary:  0.0\n"
     ]
    }
   ],
   "source": [
    "person = {'name': 'Phill', 'age': 22}\n",
    "\n",
    "print('Name: ', person.get('name'))\n",
    "print('Age: ', person.get('age'))\n",
    "\n",
    "# value is not provided\n",
    "print('Salary: ', person.get('salary'))\n",
    "\n",
    "# value is provided\n",
    "print('Salary: ', person.get('salary', 0.0))"
   ]
  },
  {
   "cell_type": "code",
   "execution_count": null,
   "metadata": {},
   "outputs": [],
   "source": [
    "str(5656)"
   ]
  },
  {
   "cell_type": "code",
   "execution_count": null,
   "metadata": {},
   "outputs": [],
   "source": []
  }
 ],
 "metadata": {
  "kernelspec": {
   "display_name": "Python 3",
   "language": "python",
   "name": "python3"
  },
  "language_info": {
   "codemirror_mode": {
    "name": "ipython",
    "version": 3
   },
   "file_extension": ".py",
   "mimetype": "text/x-python",
   "name": "python",
   "nbconvert_exporter": "python",
   "pygments_lexer": "ipython3",
   "version": "3.7.4"
  }
 },
 "nbformat": 4,
 "nbformat_minor": 2
}
