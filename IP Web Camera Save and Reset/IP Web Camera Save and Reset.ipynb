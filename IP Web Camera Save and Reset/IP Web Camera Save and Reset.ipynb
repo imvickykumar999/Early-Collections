{
 "cells": [
  {
   "cell_type": "code",
   "execution_count": 10,
   "metadata": {},
   "outputs": [
    {
     "name": "stdout",
     "output_type": "stream",
     "text": [
      "\n",
      "Enter 73u8h62 to RENEW folder : 73u8h62\n",
      "\n",
      "1). Laptop \n",
      "2). IP WebCam \n",
      "\n",
      "Which Camera wanna use : 1\n",
      "Press 1 to CLICK photo : 1\n",
      "Press 1 to CLICK photo : 1\n",
      "Press 1 to CLICK photo : f\n",
      "\n",
      "Enter 1 to REUSE : f\n",
      "\n",
      "Thanks for Using Web Camera...\n"
     ]
    }
   ],
   "source": [
    "import cv2, os, shutil\n",
    "path = r'C:\\Users\\Vicky Kumar\\Desktop\\Experiments\\Camera Webcam IP\\photo'\n",
    "\n",
    "re = '1'\n",
    "while re == '1':\n",
    "    \n",
    "    erase = input('\\nEnter 73u8h62 to RENEW folder : ')\n",
    "    if erase == '73u8h62':\n",
    "        if os.path.exists(path):\n",
    "            shutil.rmtree(path)\n",
    "            with open(r'C:\\Users\\Vicky Kumar\\Desktop\\Experiments\\Camera Webcam IP\\count.txt', 'w') as f:\n",
    "                count = f.write('1')\n",
    "\n",
    "    print('\\n1). Laptop \\n2). IP WebCam \\n')\n",
    "    camera = input('Which Camera wanna use : ')\n",
    "\n",
    "    if camera == '1':\n",
    "        url = 0\n",
    "    else:\n",
    "        url = 'http://10.0.251.141:8080/video'\n",
    "\n",
    "    cap = cv2.VideoCapture(url)\n",
    "\n",
    "    if not os.path.exists(path):\n",
    "        os.mkdir(path)\n",
    "\n",
    "    if(cap.isOpened()):\n",
    "\n",
    "        again = '1'\n",
    "        while again == '1':\n",
    "\n",
    "            again = input('Press 1 to CLICK photo : ')\n",
    "            ret, face = cap.read()\n",
    "\n",
    "            with open(r'C:\\Users\\Vicky Kumar\\Desktop\\Experiments\\Camera Webcam IP\\count.txt', 'r') as f:\n",
    "                count = int(f.readline())\n",
    "\n",
    "    #         face = cv2.cvtColor(face, cv2.COLOR_BGR2GRAY)\n",
    "            file_name_path = r'C:\\Users\\Vicky Kumar\\Desktop\\Experiments\\Camera Webcam IP\\photo\\count '+ str(count) + ' .jpg'\n",
    "            cv2.imwrite(file_name_path, face)\n",
    "\n",
    "            cv2.imshow('Face Cropper', face)\n",
    "\n",
    "            count = count + 1\n",
    "            count = str(count)\n",
    "\n",
    "            with open(r'C:\\Users\\Vicky Kumar\\Desktop\\Experiments\\Camera Webcam IP\\count.txt', 'w') as f:\n",
    "                count = f.write(count)\n",
    "\n",
    "    else:\n",
    "        print('\\nWebCam is failed to use')\n",
    "\n",
    "    cap.release()\n",
    "    cv2.destroyAllWindows()\n",
    "    \n",
    "    re = input('\\nEnter 1 to REUSE : ')\n",
    "else:\n",
    "    print('\\nThanks for Using Web Camera...')"
   ]
  },
  {
   "cell_type": "code",
   "execution_count": 5,
   "metadata": {},
   "outputs": [
    {
     "data": {
      "text/plain": [
       "(str, 2)"
      ]
     },
     "execution_count": 5,
     "metadata": {},
     "output_type": "execute_result"
    }
   ],
   "source": [
    "type(url), count"
   ]
  },
  {
   "cell_type": "code",
   "execution_count": 6,
   "metadata": {},
   "outputs": [],
   "source": [
    "cap.release()\n",
    "cv2.destroyAllWindows()"
   ]
  },
  {
   "cell_type": "code",
   "execution_count": 7,
   "metadata": {},
   "outputs": [],
   "source": [
    "# # reset photo folder and count.txt file\n",
    "\n",
    "# import os\n",
    "# import shutil\n",
    "\n",
    "# path = r'C:\\Users\\Vicky Kumar\\Desktop\\Experiments\\Camera Webcam IP\\photo'\n",
    "\n",
    "# if os.path.exists(path):\n",
    "#     shutil.rmtree(path)\n",
    "#     with open(r'C:\\Users\\Vicky Kumar\\Desktop\\Experiments\\Camera Webcam IP\\count.txt', 'w') as f:\n",
    "#         count = f.write('1')"
   ]
  },
  {
   "cell_type": "code",
   "execution_count": null,
   "metadata": {},
   "outputs": [],
   "source": []
  }
 ],
 "metadata": {
  "kernelspec": {
   "display_name": "Python 3",
   "language": "python",
   "name": "python3"
  },
  "language_info": {
   "codemirror_mode": {
    "name": "ipython",
    "version": 3
   },
   "file_extension": ".py",
   "mimetype": "text/x-python",
   "name": "python",
   "nbconvert_exporter": "python",
   "pygments_lexer": "ipython3",
   "version": "3.7.4"
  }
 },
 "nbformat": 4,
 "nbformat_minor": 2
}
