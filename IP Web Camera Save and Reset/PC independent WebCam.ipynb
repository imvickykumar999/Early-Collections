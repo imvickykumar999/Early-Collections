{
 "cells": [
  {
   "cell_type": "code",
   "execution_count": 16,
   "metadata": {},
   "outputs": [
    {
     "name": "stdout",
     "output_type": "stream",
     "text": [
      "Press 1 to CLICK photo : 1\n",
      "Press 1 to CLICK photo : 1\n",
      "Press 1 to CLICK photo : df\n",
      "\n",
      "Thanks 4 Using Camera... Press ENTER to EXIT\n"
     ]
    },
    {
     "data": {
      "text/plain": [
       "''"
      ]
     },
     "execution_count": 16,
     "metadata": {},
     "output_type": "execute_result"
    }
   ],
   "source": [
    "import cv2, os\n",
    "path = os.path.join('C:\\\\Users', os.getlogin(), 'Desktop', 'Camera Webcam IP') \n",
    "cap, count = cv2.VideoCapture(0), 1\n",
    "if not os.path.exists(path):\n",
    "    os.mkdir(path)\n",
    "if(cap.isOpened()):\n",
    "    again = '1'\n",
    "    while again is '1':\n",
    "        again = input('Press 1 to CLICK photo : ')\n",
    "        ret, face = cap.read()\n",
    "        file_name_path = path + '/count' + str(count) + ' .jpg'\n",
    "        cv2.imwrite(file_name_path, face)\n",
    "        count += 1\n",
    "else: print('\\nWebCam is failed to use')\n",
    "cap.release()\n",
    "cv2.destroyAllWindows()\n",
    "input('\\nThanks 4 Using Camera... Press ENTER to EXIT')"
   ]
  },
  {
   "cell_type": "code",
   "execution_count": null,
   "metadata": {},
   "outputs": [],
   "source": []
  }
 ],
 "metadata": {
  "kernelspec": {
   "display_name": "Python 3",
   "language": "python",
   "name": "python3"
  },
  "language_info": {
   "codemirror_mode": {
    "name": "ipython",
    "version": 3
   },
   "file_extension": ".py",
   "mimetype": "text/x-python",
   "name": "python",
   "nbconvert_exporter": "python",
   "pygments_lexer": "ipython3",
   "version": "3.7.4"
  }
 },
 "nbformat": 4,
 "nbformat_minor": 2
}
