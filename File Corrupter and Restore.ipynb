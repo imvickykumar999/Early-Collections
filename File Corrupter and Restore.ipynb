{
 "cells": [
  {
   "cell_type": "code",
   "execution_count": 325,
   "metadata": {},
   "outputs": [
    {
     "name": "stdout",
     "output_type": "stream",
     "text": [
      "1 ).  AnalogReadSerial\n",
      "2 ).  audio.mp3\n",
      "3 ).  COVID_Notice.pdf\n",
      "4 ).  haarcascade_frontalface_default.xml\n",
      "5 ).  MC Fioti - Bum Bum Tam Tam (KondZilla)(360P).mp4\n",
      "6 ).  mountain.txt\n",
      "7 ).  Response Form.csv\n",
      "8 ).  Sapna.mp3\n",
      "9 ).  VS_SQUAD😇😎💪🏻❣👨🏻_🎓.jpg\n",
      "\n",
      "Enter File Number to Corrupt : 6\n",
      "C:\\Users\\Vicky Kumar\\Desktop\\Experiments\\Test\\mountain.txt\n",
      "C:\\Users\\Vicky Kumar\\Desktop\\Experiments\\Test\\mountain.txt\n",
      "\n",
      "Length of Data =  20\n"
     ]
    },
    {
     "data": {
      "text/plain": [
       "'C:\\\\Users\\\\Vicky Kumar\\\\Desktop\\\\Experiments\\\\Test\\\\mountain.txt'"
      ]
     },
     "execution_count": 325,
     "metadata": {},
     "output_type": "execute_result"
    }
   ],
   "source": [
    "import os\n",
    "\n",
    "path = os.path.join('C:\\\\Users', os.getlogin(), 'Desktop', 'Experiments', 'Test')\n",
    "count = 0\n",
    "\n",
    "for i in os.listdir(path):\n",
    "    print(count + 1, '). ', i)\n",
    "    count += 1\n",
    "\n",
    "count = int(input('\\nEnter File Number to Corrupt : '))\n",
    "old_path = os.path.join(path, os.listdir(path)[count-1])\n",
    "print(old_path)\n",
    "\n",
    "# Provides new path.......................................................\n",
    "\n",
    "new_path = old_path.split('.')[0] + '.txt'\n",
    "os.rename(old_path, new_path)\n",
    "\n",
    "# new_path = old_path\n",
    "\n",
    "# Save Data in File...........................................\n",
    "\n",
    "with open(new_path, 'rb') as r:\n",
    "    data = r.read()\n",
    "\n",
    "print(new_path)\n",
    "os.startfile(new_path)\n",
    "\n",
    "print('\\nLength of Data = ', len(data))\n",
    "# data\n",
    "old_path"
   ]
  },
  {
   "cell_type": "markdown",
   "metadata": {},
   "source": [
    "# Corrupts File..."
   ]
  },
  {
   "cell_type": "code",
   "execution_count": 321,
   "metadata": {},
   "outputs": [
    {
     "name": "stdout",
     "output_type": "stream",
     "text": [
      "C:\\Users\\Vicky Kumar\\Desktop\\Experiments\\Test\\VS_SQUAD😇😎💪🏻❣👨🏻_🎓.jpg\n"
     ]
    }
   ],
   "source": [
    "# Corrupts File...\n",
    "\n",
    "with open(new_path, 'w') as w:\n",
    "    w.write('File is Corrupted...')\n",
    "\n",
    "os.startfile(new_path)\n",
    "print(new_path)"
   ]
  },
  {
   "cell_type": "markdown",
   "metadata": {},
   "source": [
    "# RESTORES file..."
   ]
  },
  {
   "cell_type": "code",
   "execution_count": 323,
   "metadata": {},
   "outputs": [
    {
     "name": "stdout",
     "output_type": "stream",
     "text": [
      "C:\\Users\\Vicky Kumar\\Desktop\\Experiments\\Test\\VS_SQUAD😇😎💪🏻❣👨🏻_🎓.txt\n"
     ]
    }
   ],
   "source": [
    "# RESTORES file...\n",
    "\n",
    "with open(new_path, 'wb') as w:\n",
    "    w.write(data)\n",
    "\n",
    "os.startfile(new_path)\n",
    "print(new_path)"
   ]
  },
  {
   "cell_type": "markdown",
   "metadata": {},
   "source": [
    "# Alternatively change/switch File Format as Show it's Content..."
   ]
  },
  {
   "cell_type": "code",
   "execution_count": 324,
   "metadata": {},
   "outputs": [
    {
     "name": "stdout",
     "output_type": "stream",
     "text": [
      "Present File Format :  C:\\Users\\Vicky Kumar\\Desktop\\Experiments\\Test\\VS_SQUAD😇😎💪🏻❣👨🏻_🎓.jpg\n"
     ]
    }
   ],
   "source": [
    "# Alternatively change/switch File Format as Show it's Content...\n",
    "\n",
    "new_path, old_path = old_path, new_path\n",
    "os.rename(old_path, new_path)\n",
    "\n",
    "os.startfile(new_path)\n",
    "print('Present File Format : ', new_path)"
   ]
  },
  {
   "cell_type": "code",
   "execution_count": null,
   "metadata": {},
   "outputs": [],
   "source": [
    "# hence restored..."
   ]
  }
 ],
 "metadata": {
  "kernelspec": {
   "display_name": "Python 3",
   "language": "python",
   "name": "python3"
  },
  "language_info": {
   "codemirror_mode": {
    "name": "ipython",
    "version": 3
   },
   "file_extension": ".py",
   "mimetype": "text/x-python",
   "name": "python",
   "nbconvert_exporter": "python",
   "pygments_lexer": "ipython3",
   "version": "3.7.4"
  }
 },
 "nbformat": 4,
 "nbformat_minor": 4
}
